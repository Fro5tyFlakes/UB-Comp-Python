{
 "cells": [
  {
   "cell_type": "markdown",
   "metadata": {},
   "source": [
    "### EXERCISES\n",
    "1. Create a markdown cell that says 'Import NumPy Package'. Underneath that, in a code cell, import the numpy package as np. If you know you are going to use numpy in a notebook you should always import it at the top. \n",
    "\n",
    "2. Create a 3 by 3 array by typing in the elements and then print the array. \n",
    "    * Define another array equal to 5 times the first array. Print.\n",
    "    * Define another array equal to the sum of the two arrays. Print.\n",
    "        \n",
    "3. Using np.arange create an array of all the evens from 1-50 and define it as EVENS. Create an ODDS array with the odds. \n",
    "    * Do the same but now with np.linspace. \n",
    "    \n",
    "#### PHYSICS PROBLEMS\n",
    "\n",
    "The Ideal Gas Law:\n",
    "$$PV = nRT $$\n",
    "\n",
    "The equation above is known as the ideal gas law and it describes the relationship between the pressure (P: Pascals), the volume (V: cubic meters), the number of moles of gas (n: moles), and the temperature (T: Kelvin) of an ideal gas. R is the gas constant which is 8.31 $\\frac{J}{K \\cdot mol} $. We have used lists, functions, and for loops to evaluate formulas for lists of values, but now we will use numpy arrays to see how it makes it easier.\n",
    "\n",
    "1. Can you write a function that calculates the pressure for a system when you input values for temperature, number of moles, and volume? You can define the gas constant or write the number. \n",
    "    * Call your function and give it a single value for each of the input variables (n, V, and T). \n",
    "\n",
    "2. Lets say you want to pass the function a variety of values for the volume. \n",
    "    * Define a list called 'vol_list' with at least 5 values. Try to pass this to your function. \n",
    "    * Convert the list to a numpy array and pass it to the function. \n",
    "    * Write about the advantages of using a numpy array vs a list. "
   ]
  },
  {
   "cell_type": "markdown",
   "metadata": {},
   "source": [
    "### Exercise 1.\n",
    "Create a markdown cell that says 'Import NumPy Package'. Underneath that, in a code cell, import the numpy package as np. If you know you are going to use numpy in a notebook you should always import it at the top."
   ]
  },
  {
   "cell_type": "markdown",
   "metadata": {},
   "source": [
    "import NumPy Package"
   ]
  },
  {
   "cell_type": "code",
   "execution_count": 29,
   "metadata": {},
   "outputs": [],
   "source": [
    "import numpy as np\n",
    "import matplotlib.pyplot as plt\n",
    "%matplotlib inline"
   ]
  },
  {
   "cell_type": "markdown",
   "metadata": {},
   "source": [
    "### Exercise 2.\n",
    "* Define another array equal to 5 times the first array. Print.\n",
    "* Define another array equal to the sum of the two arrays. Print."
   ]
  },
  {
   "cell_type": "code",
   "execution_count": 30,
   "metadata": {},
   "outputs": [
    {
     "name": "stdout",
     "output_type": "stream",
     "text": [
      "[[3 5 6]\n",
      " [7 5 3]\n",
      " [1 8 4]]\n"
     ]
    }
   ],
   "source": [
    "array_1 = np.array([[3,5,6],\n",
    "                   [7,5,3],\n",
    "                   [1,8,4]])\n",
    "print(array_1)"
   ]
  },
  {
   "cell_type": "code",
   "execution_count": 31,
   "metadata": {},
   "outputs": [
    {
     "data": {
      "text/plain": [
       "array([[15, 25, 30],\n",
       "       [35, 25, 15],\n",
       "       [ 5, 40, 20]])"
      ]
     },
     "execution_count": 31,
     "metadata": {},
     "output_type": "execute_result"
    }
   ],
   "source": [
    "new_array = array_1*5\n",
    "new_array"
   ]
  },
  {
   "cell_type": "code",
   "execution_count": 32,
   "metadata": {},
   "outputs": [
    {
     "data": {
      "text/plain": [
       "array([[18, 30, 36],\n",
       "       [42, 30, 18],\n",
       "       [ 6, 48, 24]])"
      ]
     },
     "execution_count": 32,
     "metadata": {},
     "output_type": "execute_result"
    }
   ],
   "source": [
    "cool_array=new_array+array_1\n",
    "cool_array"
   ]
  },
  {
   "cell_type": "markdown",
   "metadata": {},
   "source": [
    "### Exercise 3.\n",
    "Using np.arange create an array of all the evens from 1-50 and define it as EVENS. Create an ODDS array with the odds. \n",
    "* do the same but now with np.linspace. "
   ]
  },
  {
   "cell_type": "code",
   "execution_count": 33,
   "metadata": {},
   "outputs": [
    {
     "data": {
      "text/plain": [
       "array([ 2,  4,  6,  8, 10, 12, 14, 16, 18, 20, 22, 24, 26, 28, 30, 32, 34,\n",
       "       36, 38, 40, 42, 44, 46, 48, 50])"
      ]
     },
     "execution_count": 33,
     "metadata": {},
     "output_type": "execute_result"
    }
   ],
   "source": [
    "evens_array = np.arange(2,52,2)\n",
    "evens_array"
   ]
  },
  {
   "cell_type": "code",
   "execution_count": 34,
   "metadata": {},
   "outputs": [
    {
     "data": {
      "text/plain": [
       "array([ 1,  3,  5,  7,  9, 11, 13, 15, 17, 19, 21, 23, 25, 27, 29, 31, 33,\n",
       "       35, 37, 39, 41, 43, 45, 47, 49])"
      ]
     },
     "execution_count": 34,
     "metadata": {},
     "output_type": "execute_result"
    }
   ],
   "source": [
    "odd_array = np.arange(1,50,2)\n",
    "odd_array"
   ]
  },
  {
   "cell_type": "code",
   "execution_count": 35,
   "metadata": {},
   "outputs": [
    {
     "data": {
      "text/plain": [
       "array([  2.,   4.,   6.,   8.,  10.,  12.,  14.,  16.,  18.,  20.,  22.,\n",
       "        24.,  26.,  28.,  30.,  32.,  34.,  36.,  38.,  40.,  42.,  44.,\n",
       "        46.,  48.,  50.])"
      ]
     },
     "execution_count": 35,
     "metadata": {},
     "output_type": "execute_result"
    }
   ],
   "source": [
    "another_evens = np.linspace(2,50,25)\n",
    "another_evens"
   ]
  },
  {
   "cell_type": "code",
   "execution_count": 36,
   "metadata": {},
   "outputs": [
    {
     "data": {
      "text/plain": [
       "array([  1.,   3.,   5.,   7.,   9.,  11.,  13.,  15.,  17.,  19.,  21.,\n",
       "        23.,  25.,  27.,  29.,  31.,  33.,  35.,  37.,  39.,  41.,  43.,\n",
       "        45.,  47.,  49.])"
      ]
     },
     "execution_count": 36,
     "metadata": {},
     "output_type": "execute_result"
    }
   ],
   "source": [
    "another_odd = np.linspace(1,49,25)\n",
    "another_odd"
   ]
  },
  {
   "cell_type": "markdown",
   "metadata": {},
   "source": [
    "#### PHYSICS PROBLEMS\n",
    "1. Can you write a function that calculates the pressure for a system when you input values for temperature, number of moles, and volume? You can define the gas constant or write the number. \n",
    "    * Call your function and give it a single value for each of the input variables (n, V, and T). "
   ]
  },
  {
   "cell_type": "code",
   "execution_count": 37,
   "metadata": {},
   "outputs": [],
   "source": [
    "R = 8.31 # gas constant\n",
    "def pressure(n,V,T):\n",
    "    P=(n*R*T)/V\n",
    "    return P\n"
   ]
  },
  {
   "cell_type": "code",
   "execution_count": 38,
   "metadata": {},
   "outputs": [
    {
     "data": {
      "text/plain": [
       "48.475"
      ]
     },
     "execution_count": 38,
     "metadata": {},
     "output_type": "execute_result"
    }
   ],
   "source": [
    "pressure(5,6,7)"
   ]
  },
  {
   "cell_type": "markdown",
   "metadata": {},
   "source": [
    "2. Lets say you want to pass the function a variety of values for the volume. \n",
    "    * Define a list called 'vol_list' with at least 5 values. Try to pass this to your function. \n",
    "    * Convert the list to a numpy array and pass it to the function. \n",
    "    * Write about the advantages of using a numpy array vs a list. "
   ]
  },
  {
   "cell_type": "code",
   "execution_count": 39,
   "metadata": {},
   "outputs": [
    {
     "ename": "TypeError",
     "evalue": "unsupported operand type(s) for /: 'float' and 'list'",
     "output_type": "error",
     "traceback": [
      "\u001b[0;31m---------------------------------------------------------------------------\u001b[0m",
      "\u001b[0;31mTypeError\u001b[0m                                 Traceback (most recent call last)",
      "\u001b[0;32m<ipython-input-39-bdfa869e7d40>\u001b[0m in \u001b[0;36m<module>\u001b[0;34m\u001b[0m\n\u001b[1;32m      1\u001b[0m \u001b[0mvol_list\u001b[0m \u001b[0;34m=\u001b[0m \u001b[0;34m[\u001b[0m\u001b[0;36m4\u001b[0m\u001b[0;34m,\u001b[0m\u001b[0;36m6\u001b[0m\u001b[0;34m,\u001b[0m\u001b[0;36m7\u001b[0m\u001b[0;34m,\u001b[0m\u001b[0;36m8\u001b[0m\u001b[0;34m,\u001b[0m\u001b[0;36m2\u001b[0m\u001b[0;34m]\u001b[0m\u001b[0;34m\u001b[0m\u001b[0m\n\u001b[0;32m----> 2\u001b[0;31m \u001b[0mpressure\u001b[0m\u001b[0;34m(\u001b[0m\u001b[0;36m4\u001b[0m\u001b[0;34m,\u001b[0m\u001b[0mvol_list\u001b[0m\u001b[0;34m,\u001b[0m\u001b[0;36m7\u001b[0m\u001b[0;34m)\u001b[0m\u001b[0;34m\u001b[0m\u001b[0m\n\u001b[0m",
      "\u001b[0;32m<ipython-input-37-7f385268544a>\u001b[0m in \u001b[0;36mpressure\u001b[0;34m(n, V, T)\u001b[0m\n\u001b[1;32m      1\u001b[0m \u001b[0mR\u001b[0m \u001b[0;34m=\u001b[0m \u001b[0;36m8.31\u001b[0m \u001b[0;31m# gas constant\u001b[0m\u001b[0;34m\u001b[0m\u001b[0m\n\u001b[1;32m      2\u001b[0m \u001b[0;32mdef\u001b[0m \u001b[0mpressure\u001b[0m\u001b[0;34m(\u001b[0m\u001b[0mn\u001b[0m\u001b[0;34m,\u001b[0m\u001b[0mV\u001b[0m\u001b[0;34m,\u001b[0m\u001b[0mT\u001b[0m\u001b[0;34m)\u001b[0m\u001b[0;34m:\u001b[0m\u001b[0;34m\u001b[0m\u001b[0m\n\u001b[0;32m----> 3\u001b[0;31m     \u001b[0mP\u001b[0m\u001b[0;34m=\u001b[0m\u001b[0;34m(\u001b[0m\u001b[0mn\u001b[0m\u001b[0;34m*\u001b[0m\u001b[0mR\u001b[0m\u001b[0;34m*\u001b[0m\u001b[0mT\u001b[0m\u001b[0;34m)\u001b[0m\u001b[0;34m/\u001b[0m\u001b[0mV\u001b[0m\u001b[0;34m\u001b[0m\u001b[0m\n\u001b[0m\u001b[1;32m      4\u001b[0m     \u001b[0;32mreturn\u001b[0m \u001b[0mP\u001b[0m\u001b[0;34m\u001b[0m\u001b[0m\n",
      "\u001b[0;31mTypeError\u001b[0m: unsupported operand type(s) for /: 'float' and 'list'"
     ]
    }
   ],
   "source": [
    "vol_list = [4,6,7,8,2]\n",
    "pressure(4,vol_list,7)"
   ]
  },
  {
   "cell_type": "code",
   "execution_count": 53,
   "metadata": {},
   "outputs": [],
   "source": [
    "vol_array = np.array([5,6,7,8,9])\n",
    "press = pressure(1,vol_array,50)"
   ]
  },
  {
   "cell_type": "code",
   "execution_count": 55,
   "metadata": {},
   "outputs": [
    {
     "data": {
      "image/png": "[encoded data removed]",
      "text/plain": [
       "<matplotlib.figure.Figure at 0x6ede8670>"
      ]
     },
     "metadata": {
      "needs_background": "light"
     },
     "output_type": "display_data"
    }
   ],
   "source": [
    "plt.plot(vol_array,press,'b*',label = 'data')\n",
    "plt.title('P vs V')\n",
    "plt.xlabel('volume(m^3)')\n",
    "plt.ylabel('Pressure (pa)')\n",
    "plt.legend()\n",
    "plt.show()"
   ]
  },
  {
   "cell_type": "code",
   "execution_count": null,
   "metadata": {},
   "outputs": [],
   "source": []
  },
  {
   "cell_type": "code",
   "execution_count": null,
   "metadata": {},
   "outputs": [],
   "source": []
  }
 ],
 "metadata": {
  "kernelspec": {
   "display_name": "Python 3",
   "language": "python",
   "name": "python3"
  },
  "language_info": {
   "codemirror_mode": {
    "name": "ipython",
    "version": 3
   },
   "file_extension": ".py",
   "mimetype": "text/x-python",
   "name": "python",
   "nbconvert_exporter": "python",
   "pygments_lexer": "ipython3",
   "version": "3.5.3"
  }
 },
 "nbformat": 4,
 "nbformat_minor": 2
}
