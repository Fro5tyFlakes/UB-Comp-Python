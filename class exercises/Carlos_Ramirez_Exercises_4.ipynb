{
 "cells": [
  {
   "cell_type": "markdown",
   "metadata": {},
   "source": [
    "### EXERCISES\n",
    "1. Create a list of at least 10 numbers containing 5 zeros and 5 random integers. Ex - list = [0,1,0,2,3,0,0,0,4,0,5,6,0]. Create an empty list. Write a for loop that checks to see if the element of the list is a zero or not and if it is a zero append the string 'Not Defined' and if its not a zero append the inverse of the value to the empty list. You will need to use if/else/elif conditional statements. \n",
    "\n",
    "2. Convert the for loop above into a function.\n",
    "\n",
    "3. Write a function that computes the area of a circle given the radius.\n",
    "\n",
    "4. Change that function so that it can loop through a list of radii.\n",
    "\n",
    "\n",
    "#### PHYSICS PROBLEMS\n",
    "1. In circuit, we can measure resistance (R), current (I), and voltage (V) and they are related by the equation:\n",
    "\n",
    "$$V = IR .$$\n",
    "\n",
    "Using this equation write a function that takes resistance as an input, voltage is already defined, and calculates the current. \n",
    "\n",
    "2. Change this function so it can accept a list of resistances. Call the function for a list of at least 5 values. \n",
    "\n",
    "3. Using the resulting list of currents and an empty list, create a function that checks if the current is above some threshold. If it is above, append the string 'Resistor Fail'. If it is below, append the string 'Resistor Safe'. "
   ]
  },
  {
   "cell_type": "markdown",
   "metadata": {},
   "source": [
    "### Exercise 1. \n",
    "Create a list of at least 10 numbers containing 5 zeros and 5 random integers. Ex - list = [0,1,0,2,3,0,0,0,4,0,5,6,0]. Create an empty list. Write a for loop that checks to see if the element of the list is a zero or not and if it is a zero append the string 'Not Defined' and if its not a zero append the inverse of the value to the empty list. You will need to use if/else/elif conditional statements."
   ]
  },
  {
   "cell_type": "code",
   "execution_count": 14,
   "metadata": {},
   "outputs": [
    {
     "data": {
      "text/plain": [
       "[0.2,\n",
       " 'Not defined',\n",
       " 'Not defined',\n",
       " 0.5,\n",
       " 'Not defined',\n",
       " 1.0,\n",
       " 'Not defined',\n",
       " 0.3333333333333333,\n",
       " 0.2,\n",
       " 'Not defined']"
      ]
     },
     "execution_count": 14,
     "metadata": {},
     "output_type": "execute_result"
    }
   ],
   "source": [
    "apple_list=[5,0,0,2,0,1,0,3,5,0] # defined a random list\n",
    "dog_list = []  # created an empty list\n",
    "for i in range (0,len(apple_list),1): \n",
    "    \n",
    "    if apple_list[i]== 0 : # if the list is equal to zero do the following\n",
    "        dog_list.append('Not defined')\n",
    "    else:\n",
    "        dog_list.append(apple_list[i]**(-1)) # if the condition is not satisfied do the following\n",
    "dog_list"
   ]
  },
  {
   "cell_type": "markdown",
   "metadata": {},
   "source": [
    "### Exercise 2.\n",
    "Convert the loop into a function"
   ]
  },
  {
   "cell_type": "code",
   "execution_count": 15,
   "metadata": {},
   "outputs": [],
   "source": [
    "def reciprocal(x): # created a function for the reciprocal of the list\n",
    "    doggy_list=[]\n",
    "    for i in range (len(apple_list)): # for the numbers in apple list do the follwing\n",
    "        if apple_list[i]==0: # if the number is equal to 0 do the following\n",
    "            doggy_list.append('Not Defined') \n",
    "        else:\n",
    "            doggy_list.append(apple_list[i]**(-1)) # if its not equal to zero do the follwing\n",
    "    return doggy_list"
   ]
  },
  {
   "cell_type": "code",
   "execution_count": 16,
   "metadata": {},
   "outputs": [
    {
     "data": {
      "text/plain": [
       "[0.2,\n",
       " 'Not Defined',\n",
       " 'Not Defined',\n",
       " 0.5,\n",
       " 'Not Defined',\n",
       " 1.0,\n",
       " 'Not Defined',\n",
       " 0.3333333333333333,\n",
       " 0.2,\n",
       " 'Not Defined']"
      ]
     },
     "execution_count": 16,
     "metadata": {},
     "output_type": "execute_result"
    }
   ],
   "source": [
    "reciprocal(apple_list)"
   ]
  },
  {
   "cell_type": "markdown",
   "metadata": {},
   "source": [
    "### Exercise 3\n",
    "Write a function that computes the area of a circle given the radius."
   ]
  },
  {
   "cell_type": "code",
   "execution_count": 17,
   "metadata": {},
   "outputs": [],
   "source": [
    " # defined radius of the circle\n",
    "import math\n",
    "pi=math.pi\n",
    "#r = float(input('Enter Your Radius'))\n",
    "def calc_area(): # created a function to find the area given the raduis\n",
    "    r_ad = float(input('Enter Your Radius'))\n",
    "    A=pi*(r_ad**2) # the function to find the area\n",
    "    return A"
   ]
  },
  {
   "cell_type": "code",
   "execution_count": 19,
   "metadata": {},
   "outputs": [
    {
     "name": "stdin",
     "output_type": "stream",
     "text": [
      "Enter Your Radius 2\n"
     ]
    },
    {
     "data": {
      "text/plain": [
       "12.566370614359172"
      ]
     },
     "execution_count": 19,
     "metadata": {},
     "output_type": "execute_result"
    }
   ],
   "source": [
    "calc_area()"
   ]
  },
  {
   "cell_type": "markdown",
   "metadata": {},
   "source": [
    "### Exercise 4 Change that function so that it can loop through a list of radii."
   ]
  },
  {
   "cell_type": "code",
   "execution_count": 24,
   "metadata": {},
   "outputs": [],
   "source": [
    "rad_list=[2,3,4,5,6]\n",
    "area_list = []\n",
    "\n",
    "        \n",
    "for i in range(len(rad_list)): #  the range will be equal to the lenth of the rad_list\n",
    "    area_list.append(rad_list[i]**2*pi) # whatever the results are from the area formula, add it to the area_list\n",
    "    "
   ]
  },
  {
   "cell_type": "markdown",
   "metadata": {},
   "source": [
    "### Physics problem 1."
   ]
  },
  {
   "cell_type": "code",
   "execution_count": 30,
   "metadata": {},
   "outputs": [],
   "source": [
    "V=54\n",
    "def calc_current(R): # created a function for current with one input R\n",
    "    I = V/R  # equation in the function \n",
    "    return I # after the caculations are done return the current"
   ]
  },
  {
   "cell_type": "code",
   "execution_count": 31,
   "metadata": {},
   "outputs": [
    {
     "data": {
      "text/plain": [
       "27.0"
      ]
     },
     "execution_count": 31,
     "metadata": {},
     "output_type": "execute_result"
    }
   ],
   "source": [
    "calc_current(2)"
   ]
  },
  {
   "cell_type": "markdown",
   "metadata": {},
   "source": [
    "### Physrics problem 2)\n",
    "Change this function so it can accept a list of resistances. Call the function for a list of at least 5 values."
   ]
  },
  {
   "cell_type": "code",
   "execution_count": 40,
   "metadata": {},
   "outputs": [],
   "source": [
    "def calc_curr(R): # created a function with one input\n",
    "    I_list=[] # creates empty list where the resuts will go\n",
    "    for i in range(0,len(R),1): # for the loop through it step  by step\n",
    "        I_list.append(V/R[i]) # add the results to the I_list\n",
    "    return I_list # want the curent so we call the I_list, whatever we return is what we caculate\n"
   ]
  },
  {
   "cell_type": "code",
   "execution_count": 41,
   "metadata": {},
   "outputs": [
    {
     "data": {
      "text/plain": [
       "[5.4, 2.7, 1.8, 1.35, 1.08]"
      ]
     },
     "execution_count": 41,
     "metadata": {},
     "output_type": "execute_result"
    }
   ],
   "source": [
    "R_list = [i for i in range (10,51,10)] # gave R_list a list of numbers\n",
    "\n",
    "I_list = calc_curr(R_list)\n",
    "I_list"
   ]
  },
  {
   "cell_type": "markdown",
   "metadata": {},
   "source": [
    "### Physics Problem 3.\n",
    "Using the resulting list of currents and an empty list, create a function that checks if the current is above some threshold. If it is above, append the string 'Resistor Fail'. If it is below, append the string 'Resistor Safe'."
   ]
  },
  {
   "cell_type": "code",
   "execution_count": 42,
   "metadata": {},
   "outputs": [],
   "source": [
    "def check_curr(I): # defines the function with 1 input\n",
    "    Pass_Fail=[]  # create an an empty list for the pass or fail results\n",
    "    for i in range (0,len[I],1):  #for loop steps through the list of currents\n",
    "        if I[i]>= 0.6: # checks when the curre t is above or equal to 0.6\n",
    "            Pass_Fail.append('Resistor Fail') # when above 0.6 add the phrase Resistor Fail to Pass_Fail\n",
    "        else:\n",
    "            Pass_Fail.append('Resistor Safe')\n",
    "        return Pass_Fail"
   ]
  },
  {
   "cell_type": "markdown",
   "metadata": {},
   "source": [
    "# Extra Activity "
   ]
  },
  {
   "cell_type": "markdown",
   "metadata": {},
   "source": [
    "Let's get a sneak peak at the next tool we're going to learn and plot the lists for current and resistance. Copt the syntax bellow using the list names you used from the physics problem.\n"
   ]
  },
  {
   "cell_type": "code",
   "execution_count": 52,
   "metadata": {},
   "outputs": [
    {
     "data": {
      "image/png": "[encoded data removed]",
      "text/plain": [
       "<matplotlib.figure.Figure at 0x7297f2f0>"
      ]
     },
     "metadata": {
      "needs_background": "light"
     },
     "output_type": "display_data"
    }
   ],
   "source": [
    "# first look at plotting data\n",
    "import matplotlib.pyplot as plt\n",
    "%matplotlib inline\n",
    "\n",
    "plt.plot(I_list,R_list,'*--')\n",
    "plt.show()"
   ]
  },
  {
   "cell_type": "code",
   "execution_count": null,
   "metadata": {},
   "outputs": [],
   "source": []
  }
 ],
 "metadata": {
  "kernelspec": {
   "display_name": "Python 3",
   "language": "python",
   "name": "python3"
  },
  "language_info": {
   "codemirror_mode": {
    "name": "ipython",
    "version": 3
   },
   "file_extension": ".py",
   "mimetype": "text/x-python",
   "name": "python",
   "nbconvert_exporter": "python",
   "pygments_lexer": "ipython3",
   "version": "3.5.3"
  }
 },
 "nbformat": 4,
 "nbformat_minor": 2
}
