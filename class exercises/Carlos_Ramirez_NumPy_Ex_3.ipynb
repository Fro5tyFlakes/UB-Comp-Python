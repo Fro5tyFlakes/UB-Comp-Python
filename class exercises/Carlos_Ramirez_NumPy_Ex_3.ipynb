{
 "cells": [
  {
   "cell_type": "markdown",
   "metadata": {},
   "source": [
    "### EXERCISES\n",
    "\n",
    "1. Use np.linspace to create an array of angles from 0 to 2$\\pi$. \n",
    "    * Use the np.sin command on the array. Do the same for np.cos and np.tan. \n",
    "    * Convert the array of angles from radians to degrees. \n",
    "    \n",
    "2. Create a 2 by 2 array of random integers. \n",
    "    * Transpose the matrix.\n",
    "    * Find the determinant of the matrix. \n",
    "    * Find the inverse of the matrix.\n",
    "    * Find the eigenvalues and eigenvectors of the matrix.\n",
    "    \n",
    "3. Use an array you already have or create a new one and save it as a csv file. Use ls to check the file was saved to the current \n",
    "#### PHYSICS PROBLEMS\n",
    "\n",
    "PROJECTILE MOTION\n",
    "\n",
    "A ball is launched from ground level at 10 m/s and an angle of 45 degrees. The acceleration due to gravity is -9.8 m/s$^2$ and air resistance can be neglected. \n",
    "\n",
    "1. Find the components of the launch velocity:\n",
    "    * What is the velocity in the upward direction? Define this as  v_y.\n",
    "    * What is the velocity in the horizontal direction? Define this as v_x. \n",
    "    * Determine the time of flight for the ball.\n",
    "    * Determine the maximum height of the ball.\n",
    "    * Determine the range of the ball.\n",
    "    \n",
    "2. Define a function our a few functions that solves the problem above. \n",
    "\n",
    "3. Now, define an array of launch velocities and pass through the function for a given angle. \n",
    "\n",
    "4. Do the same but for an array of angles for a given launch velocity.\n",
    "\n",
    "5. Can you change the function with a for loop to loop through 5 different angles with 10 different launch velocities?"
   ]
  },
  {
   "cell_type": "markdown",
   "metadata": {},
   "source": [
    "### Exercises\n",
    "  1) Use the np.sin command on the array. Do the same for np.cos and np.tan. \n",
    "  * Convert the array of angles from radians to degrees. "
   ]
  },
  {
   "cell_type": "code",
   "execution_count": 1,
   "metadata": {},
   "outputs": [],
   "source": [
    "import numpy as np"
   ]
  },
  {
   "cell_type": "code",
   "execution_count": 12,
   "metadata": {},
   "outputs": [
    {
     "data": {
      "text/plain": [
       "array([ 0.        ,  0.6981317 ,  1.3962634 ,  2.0943951 ,  2.7925268 ,\n",
       "        3.4906585 ,  4.1887902 ,  4.88692191,  5.58505361,  6.28318531])"
      ]
     },
     "execution_count": 12,
     "metadata": {},
     "output_type": "execute_result"
    }
   ],
   "source": [
    "a = np.linspace(0,np.pi*2,10)\n",
    "a"
   ]
  },
  {
   "cell_type": "code",
   "execution_count": 16,
   "metadata": {},
   "outputs": [
    {
     "name": "stdout",
     "output_type": "stream",
     "text": [
      "[  0.00000000e+00   6.42787610e-01   9.84807753e-01   8.66025404e-01\n",
      "   3.42020143e-01  -3.42020143e-01  -8.66025404e-01  -9.84807753e-01\n",
      "  -6.42787610e-01  -2.44929360e-16]\n",
      "[ 1.          0.76604444  0.17364818 -0.5        -0.93969262 -0.93969262\n",
      " -0.5         0.17364818  0.76604444  1.        ]\n",
      "[  0.00000000e+00   8.39099631e-01   5.67128182e+00  -1.73205081e+00\n",
      "  -3.63970234e-01   3.63970234e-01   1.73205081e+00  -5.67128182e+00\n",
      "  -8.39099631e-01  -2.44929360e-16]\n"
     ]
    },
    {
     "data": {
      "text/plain": [
       "array([   0.,   40.,   80.,  120.,  160.,  200.,  240.,  280.,  320.,  360.])"
      ]
     },
     "execution_count": 16,
     "metadata": {},
     "output_type": "execute_result"
    }
   ],
   "source": [
    "print(np.sin(a)) # found sin of a\n",
    "print(np.cos(a))\n",
    "print(np.tan(a))\n",
    "np.degrees(a)  # convereted a to degrees"
   ]
  },
  {
   "cell_type": "markdown",
   "metadata": {},
   "source": [
    "### 2. Create a 2 by 2 array of random integers. \n",
    "    * Transpose the matrix.\n",
    "    * Find the determinant of the matrix. \n",
    "    * Find the inverse of the matrix.\n",
    "    * Find the eigenvalues and eigenvectors of the matrix."
   ]
  },
  {
   "cell_type": "code",
   "execution_count": 33,
   "metadata": {},
   "outputs": [
    {
     "data": {
      "text/plain": [
       "array([[41, 67],\n",
       "       [34, 56]])"
      ]
     },
     "execution_count": 33,
     "metadata": {},
     "output_type": "execute_result"
    }
   ],
   "source": [
    "randums= np.random.randint(1,101,size=(2,2)) # random 2x2 array \n",
    "randums"
   ]
  },
  {
   "cell_type": "code",
   "execution_count": 34,
   "metadata": {},
   "outputs": [
    {
     "data": {
      "text/plain": [
       "array([[41, 34],\n",
       "       [67, 56]])"
      ]
     },
     "execution_count": 34,
     "metadata": {},
     "output_type": "execute_result"
    }
   ],
   "source": [
    "trans_randums = randums.T  # trasnpose of the matrix\n",
    "trans_randums"
   ]
  },
  {
   "cell_type": "code",
   "execution_count": 35,
   "metadata": {},
   "outputs": [
    {
     "data": {
      "text/plain": [
       "17.99999999999995"
      ]
     },
     "execution_count": 35,
     "metadata": {},
     "output_type": "execute_result"
    }
   ],
   "source": [
    "r_det = np.linalg.det(randums) #determinant of the matrix\n",
    "r_det"
   ]
  },
  {
   "cell_type": "code",
   "execution_count": 37,
   "metadata": {},
   "outputs": [
    {
     "data": {
      "text/plain": [
       "array([[ 3.11111111, -3.72222222],\n",
       "       [-1.88888889,  2.27777778]])"
      ]
     },
     "execution_count": 37,
     "metadata": {},
     "output_type": "execute_result"
    }
   ],
   "source": [
    "inv_a = np.linalg.inv(randums) # inverse of the matrix\n",
    "inv_a"
   ]
  },
  {
   "cell_type": "code",
   "execution_count": 40,
   "metadata": {},
   "outputs": [
    {
     "data": {
      "text/plain": [
       "(array([  0.18592338,  96.81407662]), array([[-0.64005407, -0.52023959],\n",
       "        [ 0.76832987, -0.85402036]]))"
      ]
     },
     "execution_count": 40,
     "metadata": {},
     "output_type": "execute_result"
    }
   ],
   "source": [
    "r_eig= np.linalg.eig(trans_randums)\n",
    "r_eig"
   ]
  },
  {
   "cell_type": "markdown",
   "metadata": {},
   "source": [
    "### 3. Use an array you already have or create a new one and save it as a csv file. Use ls to check the file was saved to the current "
   ]
  },
  {
   "cell_type": "code",
   "execution_count": 43,
   "metadata": {},
   "outputs": [
    {
     "name": "stdout",
     "output_type": "stream",
     "text": [
      "carlos_1D_projMotion_.ipynb       carlos_ramirez_plottingactivity_.ipynb\n",
      "Carlos_exercises_1.ipynb          Exercises_3.ipynb\n",
      "Carlos_Exercises_2.ipynb          NumPy_Ex_2.ipynb\n",
      "Carlos_ramirez_exercise_3.ipynb   practice lists .ipynb\n",
      "Carlos_Ramirez_Exercises_4.ipynb  randums_array.csv\n",
      "Carlos_RAmirez_NumPy_Ex_1.ipynb   \u001b[0m\u001b[01;35mtoss_rock_up_01.jpg\u001b[0m\n",
      "Carlos_Ramirez_NumPy_Ex_3.ipynb   \u001b[01;35mtoss_rock_up_02.jpg\u001b[0m\n"
     ]
    }
   ],
   "source": [
    "np.savetxt(\"randums_array.csv\",randums,delimiter=\",\")\n",
    "%ls"
   ]
  },
  {
   "cell_type": "markdown",
   "metadata": {},
   "source": [
    "#### PHYSICS PROBLEMS\n",
    "1. Find the components of the launch velocity:\n",
    "    * What is the velocity in the upward direction? Define this as  v_y.\n",
    "    * What is the velocity in the horizontal direction? Define this as v_x. \n",
    "    * Determine the time of flight for the ball.\n",
    "    * Determine the maximum height of the ball.\n",
    "    * Determine the range of the ball."
   ]
  },
  {
   "cell_type": "markdown",
   "metadata": {},
   "source": []
  },
  {
   "cell_type": "code",
   "execution_count": null,
   "metadata": {},
   "outputs": [],
   "source": []
  }
 ],
 "metadata": {
  "kernelspec": {
   "display_name": "Python 3",
   "language": "python",
   "name": "python3"
  },
  "language_info": {
   "codemirror_mode": {
    "name": "ipython",
    "version": 3
   },
   "file_extension": ".py",
   "mimetype": "text/x-python",
   "name": "python",
   "nbconvert_exporter": "python",
   "pygments_lexer": "ipython3",
   "version": "3.5.3"
  }
 },
 "nbformat": 4,
 "nbformat_minor": 2
}
