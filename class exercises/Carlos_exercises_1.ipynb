{
 "cells": [
  {
   "cell_type": "markdown",
   "metadata": {},
   "source": [
    "### EXERCISES\n",
    "To practice the skills we have learned so far I want you to complete the following tasks to the best of your ability. For each problem I want a markdown cell that has the number of the problem you are solving, a brief description with what the problem is asking and a few sentences that explain how you plan to write the code. You do not need to have each problem in one code cell, use as many as necessary. Use comments in each line of the code cells to explain the commands being used. \n",
    "\n",
    "1. Create a folder for all the files that will be saved for this class. Name the folder something related to the title of this course. Inside that folder create 2 more folders one for in class notes and files from canvas. Take the time to move all the lecture files from canvas into the class notes folder.\n",
    "\n",
    "AT THIS POINT CHECK WITH ME TO MAKE SURE EVERYTHING IS FINE.\n",
    "\n",
    "2. On canvas find the first exercises file, download it, and then move it to the folder for exercises. Change the name of this python notebook to [YOUR NAME]EX_1. \n",
    "\n",
    "3. Tell me a few things about yourself:\n",
    "    * Why did you sign up for this class?\n",
    "    * What are your interests in school? Outside of school?\n",
    "    * Tell me about your experience with computers.\n",
    "\n",
    "\n",
    "If you complete the tasks above try some of these practice problems using code cells:\n",
    "\n",
    "1. How do you multiply two numbers 5 and 6?\n",
    "\n",
    "2. How do you print the phrase 'Hello world!'?\n",
    "\n",
    "3. Can you use a print statement to print the phrase '5 times 6 =' and then actually code the multiplication?\n",
    "\n",
    "4. How do you raise a number to a power? Evaluate 4^10.\n",
    "\n",
    "5. Add a markdown cell and try to summarize everything you learned today."
   ]
  },
  {
   "cell_type": "code",
   "execution_count": null,
   "metadata": {},
   "outputs": [],
   "source": [
    "#3\n",
    "\"I joined this class as it was something I thought was interesting\"\n",
    "#3\n",
    "\"Some things that interest me are math and history\"\n",
    "#3 \n",
    "\"I dont have a lot of experience with computers as I've only really looked at how to build them and gaming\"\n"
   ]
  },
  {
   "cell_type": "markdown",
   "metadata": {},
   "source": [
    "# 1.Multiplication\n",
    "How to multiply numbers, use *"
   ]
  },
  {
   "cell_type": "code",
   "execution_count": 13,
   "metadata": {},
   "outputs": [
    {
     "data": {
      "text/plain": [
       "25"
      ]
     },
     "execution_count": 13,
     "metadata": {},
     "output_type": "execute_result"
    }
   ],
   "source": [
    "5*5"
   ]
  },
  {
   "cell_type": "markdown",
   "metadata": {},
   "source": [
    "# 2.Print\n",
    "How to print, use ('text')"
   ]
  },
  {
   "cell_type": "code",
   "execution_count": 16,
   "metadata": {},
   "outputs": [
    {
     "name": "stdout",
     "output_type": "stream",
     "text": [
      "Hello world\n"
     ]
    }
   ],
   "source": [
    "print ( 'Hello world')"
   ]
  },
  {
   "cell_type": "markdown",
   "metadata": {},
   "source": [
    "# 3. Printing a phrase with code\n"
   ]
  },
  {
   "cell_type": "code",
   "execution_count": 12,
   "metadata": {},
   "outputs": [
    {
     "name": "stdout",
     "output_type": "stream",
     "text": [
      "5 times 6= 30\n"
     ]
    }
   ],
   "source": [
    "print('5 times 6=',5*6)"
   ]
  },
  {
   "cell_type": "markdown",
   "metadata": {},
   "source": [
    "# 4. Raising a number to a power\n",
    "Use 2 **"
   ]
  },
  {
   "cell_type": "code",
   "execution_count": 17,
   "metadata": {},
   "outputs": [
    {
     "data": {
      "text/plain": [
       "1048576"
      ]
     },
     "execution_count": 17,
     "metadata": {},
     "output_type": "execute_result"
    }
   ],
   "source": [
    "4**10"
   ]
  },
  {
   "cell_type": "markdown",
   "metadata": {},
   "source": [
    "# 5 What I learned today\n",
    "use 'print'"
   ]
  },
  {
   "cell_type": "code",
   "execution_count": 22,
   "metadata": {},
   "outputs": [
    {
     "name": "stdout",
     "output_type": "stream",
     "text": [
      "I learned to print and do the simple math things like add and subtract as well as how to use different cells as markdowns and code\n"
     ]
    }
   ],
   "source": [
    "print('I learned to print and do the simple math things like add and subtract as well as how to use different cells as markdowns and code')"
   ]
  },
  {
   "cell_type": "code",
   "execution_count": null,
   "metadata": {},
   "outputs": [],
   "source": []
  }
 ],
 "metadata": {
  "kernelspec": {
   "display_name": "Python 3",
   "language": "python",
   "name": "python3"
  },
  "language_info": {
   "codemirror_mode": {
    "name": "ipython",
    "version": 3
   },
   "file_extension": ".py",
   "mimetype": "text/x-python",
   "name": "python",
   "nbconvert_exporter": "python",
   "pygments_lexer": "ipython3",
   "version": "3.5.3"
  }
 },
 "nbformat": 4,
 "nbformat_minor": 2
}
