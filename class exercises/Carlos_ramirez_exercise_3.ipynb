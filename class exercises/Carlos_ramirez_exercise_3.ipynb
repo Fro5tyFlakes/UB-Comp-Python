{
 "cells": [
  {
   "cell_type": "markdown",
   "metadata": {},
   "source": [
    "# Exercise 3 \n",
    "### 1)Define a list of 10 numbers from 0-9. example - my_list = [1, 5, 8, 3, 7, 9, 5, 2, 6, 3]"
   ]
  },
  {
   "cell_type": "code",
   "execution_count": 2,
   "metadata": {},
   "outputs": [
    {
     "data": {
      "text/plain": [
       "10"
      ]
     },
     "execution_count": 2,
     "metadata": {},
     "output_type": "execute_result"
    }
   ],
   "source": [
    "a_list=[0,1,2,3,4,5,6,7,8,9]\n",
    "len(a_list)"
   ]
  },
  {
   "cell_type": "markdown",
   "metadata": {},
   "source": [
    "### 2) Use indexing to print the following portions of the list"
   ]
  },
  {
   "cell_type": "code",
   "execution_count": 8,
   "metadata": {},
   "outputs": [
    {
     "name": "stdout",
     "output_type": "stream",
     "text": [
      "9\n"
     ]
    }
   ],
   "source": [
    "print(a_list[-1]) #this is the last element of my list"
   ]
  },
  {
   "cell_type": "code",
   "execution_count": 9,
   "metadata": {},
   "outputs": [
    {
     "name": "stdout",
     "output_type": "stream",
     "text": [
      "0\n"
     ]
    }
   ],
   "source": [
    "print(a_list[0]) # this is the first element of my list"
   ]
  },
  {
   "cell_type": "code",
   "execution_count": 10,
   "metadata": {},
   "outputs": [
    {
     "name": "stdout",
     "output_type": "stream",
     "text": [
      "[5, 6, 7, 8, 9]\n"
     ]
    }
   ],
   "source": [
    "print(a_list[-5:]) # this wil always get the last 5 of a list"
   ]
  },
  {
   "cell_type": "code",
   "execution_count": 11,
   "metadata": {},
   "outputs": [
    {
     "name": "stdout",
     "output_type": "stream",
     "text": [
      "[0, 1, 2, 3]\n"
     ]
    }
   ],
   "source": [
    "print(a_list[0:4]) # to print the first 3 elements, the 3 in the colon is excluded"
   ]
  },
  {
   "cell_type": "code",
   "execution_count": 14,
   "metadata": {},
   "outputs": [
    {
     "name": "stdout",
     "output_type": "stream",
     "text": [
      "[1, 2, 3, 4, 5, 6, 7, 8]\n"
     ]
    }
   ],
   "source": [
    "print(a_list[1:9])  # excludes beggining and end. more general would be[1,-1] which would work for any list"
   ]
  },
  {
   "cell_type": "markdown",
   "metadata": {},
   "source": [
    "3) Define an object as the string 'PHYSICS'. Define an empty list. Use a for loop to append each letter of the string as an element of the list. The ending list should look like this: example_list = [P, H, Y, S, I, C, S]"
   ]
  },
  {
   "cell_type": "code",
   "execution_count": 32,
   "metadata": {},
   "outputs": [
    {
     "name": "stdout",
     "output_type": "stream",
     "text": [
      "['P', 'H', 'Y', 'S', 'I', 'C', 'S']\n"
     ]
    }
   ],
   "source": [
    "string = 'PHYSICS'\n",
    "ex_list = []\n",
    "for i in range(0, len(string), 1):  #created a for loop that starts at the begining and goes to the length of the string\n",
    "    ex_list.append(string[i])\n",
    "print(ex_list)"
   ]
  },
  {
   "cell_type": "markdown",
   "metadata": {},
   "source": [
    "### 4) Create a list with a least 5 elements. Create another list that has elements equal to double the values of the elements of the first list."
   ]
  },
  {
   "cell_type": "code",
   "execution_count": 6,
   "metadata": {},
   "outputs": [
    {
     "data": {
      "text/plain": [
       "[10, 11, 12, 13, 14]"
      ]
     },
     "execution_count": 6,
     "metadata": {},
     "output_type": "execute_result"
    }
   ],
   "source": [
    "apple_list=[i for i in range (10,15,1)]\n",
    "apple_list"
   ]
  },
  {
   "cell_type": "code",
   "execution_count": 7,
   "metadata": {},
   "outputs": [
    {
     "data": {
      "text/plain": [
       "[20, 22, 24, 26, 28]"
      ]
     },
     "execution_count": 7,
     "metadata": {},
     "output_type": "execute_result"
    }
   ],
   "source": [
    "bananas_list=[]\n",
    "for i in range(0,len(apple_list),1):\n",
    "    bananas_list.append(apple_list[i]*2)\n",
    "bananas_list"
   ]
  },
  {
   "cell_type": "markdown",
   "metadata": {},
   "source": [
    "### PHYSICS PROBLEM\n",
    "Consider a ball that starts from the ground with an initial speed and acceleration due to gravity being -9.8 m/s 2 . The ball goes up, reaches a maximum height, and falls back to the ground where it started. Rather than consider one ball with just one initial velocity, we will define our initial velocity as a list.\n",
    "* define a list of initial velocities"
   ]
  },
  {
   "cell_type": "code",
   "execution_count": 11,
   "metadata": {},
   "outputs": [
    {
     "name": "stdout",
     "output_type": "stream",
     "text": [
      "[5, 10, 15, 20, 25]\n"
     ]
    }
   ],
   "source": [
    "#create init_vel_list\n",
    "init_vel_list= [5,10,15,20,25]  # created initial vel list starting at 0,ending at 25 steps of 5\n",
    "print(init_vel_list)"
   ]
  },
  {
   "cell_type": "markdown",
   "metadata": {},
   "source": [
    "## 2) Define an empty lists for the following: time_top_list, time_tot_list, max_h_list."
   ]
  },
  {
   "cell_type": "code",
   "execution_count": 24,
   "metadata": {},
   "outputs": [
    {
     "name": "stdout",
     "output_type": "stream",
     "text": [
      "[] [] []\n"
     ]
    }
   ],
   "source": [
    "time_ymax_list=[] # time it takes to reach max heigh\n",
    "time_tot_list=[] # total time it takes to go up and back down\n",
    "max_ymax_list = [] # max height reached"
   ]
  },
  {
   "cell_type": "markdown",
   "metadata": {},
   "source": [
    "## 3) Using a for loop and the equations of kinematic motion, find the time it takes to reach max height for each initial velocity, append these values to time_top_list."
   ]
  },
  {
   "cell_type": "code",
   "execution_count": 20,
   "metadata": {},
   "outputs": [
    {
     "name": "stdout",
     "output_type": "stream",
     "text": [
      "time to max height [0.5, 1.0, 1.5, 2.0, 2.5]\n"
     ]
    }
   ],
   "source": [
    "# defind acceleration of gravity\n",
    "time_ymax_list=[] # time it takes to reach max height, clears each list from previous run\n",
    "time_tot_list=[] # total time it takes to go up and back down\n",
    "max_ymax_list = [] \n",
    "accel_g = -10 #m/s^2\n",
    "y_i = 0\n",
    "#create a loop that caculates time_ymax for each initial vel\n",
    "for i in range(0,len(init_vel_list),1):\n",
    "    time_ymax_list.append(init_vel_list[i]/-accel_g)\n",
    "print('time to max height',time_ymax_list)"
   ]
  },
  {
   "cell_type": "markdown",
   "metadata": {},
   "source": [
    "4) Using a for loop, multiply each element of time_top_list and append these values to top_tot_list."
   ]
  },
  {
   "cell_type": "code",
   "execution_count": 23,
   "metadata": {},
   "outputs": [
    {
     "name": "stdout",
     "output_type": "stream",
     "text": [
      "[1.0, 2.0, 3.0, 4.0, 5.0]\n"
     ]
    }
   ],
   "source": [
    "time_tot_list=[] # this is to clear the list and be able to run it multiple times to get the same response\n",
    "for i in range(0,len(time_ymax_list),1):\n",
    "    time_tot_list.append(time_ymax_list[i]*2)\n",
    "print(time_tot_list)"
   ]
  },
  {
   "cell_type": "markdown",
   "metadata": {},
   "source": [
    "### 4. Using a for loop, calculate the max height for each initial velocity and append these values to the max_h_list."
   ]
  },
  {
   "cell_type": "code",
   "execution_count": 34,
   "metadata": {},
   "outputs": [
    {
     "data": {
      "text/plain": [
       "31.25"
      ]
     },
     "execution_count": 34,
     "metadata": {},
     "output_type": "execute_result"
    }
   ],
   "source": [
    "y_i=0\n",
    "max_ymax_list = [] \n",
    "y_max = y_i + init_vel_list[i]*time_ymax_list[i] + 1/2 * accel_g * ((time_ymax_list[i]**2)) # **= exponenty_max)\n",
    "y_max"
   ]
  },
  {
   "cell_type": "code",
   "execution_count": 40,
   "metadata": {},
   "outputs": [],
   "source": [
    "#im going to find the max height for each inital vel and append them to the new list.\n",
    "max_h_list = [] \n",
    "for i in range(0,len(init_vel_list),1):  \n",
    "    max_h_list.append(y_i + init_vel_list[i]*time_ymax_list[i] + 1/2 * accel_g * ((time_ymax_list[i]**2))) \n",
    "# to find the max height for each init vel, you append the equation so that i get a list"
   ]
  },
  {
   "cell_type": "code",
   "execution_count": 41,
   "metadata": {},
   "outputs": [
    {
     "data": {
      "text/plain": [
       "[1.25, 5.0, 11.25, 20.0, 31.25]"
      ]
     },
     "execution_count": 41,
     "metadata": {},
     "output_type": "execute_result"
    }
   ],
   "source": [
    "max_h_list"
   ]
  },
  {
   "cell_type": "code",
   "execution_count": null,
   "metadata": {},
   "outputs": [],
   "source": []
  },
  {
   "cell_type": "code",
   "execution_count": null,
   "metadata": {},
   "outputs": [],
   "source": []
  }
 ],
 "metadata": {
  "kernelspec": {
   "display_name": "Python 3",
   "language": "python",
   "name": "python3"
  },
  "language_info": {
   "codemirror_mode": {
    "name": "ipython",
    "version": 3
   },
   "file_extension": ".py",
   "mimetype": "text/x-python",
   "name": "python",
   "nbconvert_exporter": "python",
   "pygments_lexer": "ipython3",
   "version": "3.5.3"
  }
 },
 "nbformat": 4,
 "nbformat_minor": 2
}
