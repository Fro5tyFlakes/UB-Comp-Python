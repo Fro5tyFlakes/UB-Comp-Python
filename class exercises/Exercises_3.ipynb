{
 "cells": [
  {
   "cell_type": "markdown",
   "metadata": {},
   "source": [
    "### EXERCISES\n",
    "1. Define a list of 10 numbers from 0-9. example - my_list = [1, 5, 8, 3, 7, 9, 5, 2, 6, 3]\n",
    "\n",
    "2. Use indexing to print the following portions of the list:\n",
    "    * print the last element of the list\n",
    "    * print the first element of the list\n",
    "    * print the last 5 elements of the list\n",
    "    * print the first 3 elements of the list\n",
    "    * print the elements of the list excluding the first and last\n",
    "    \n",
    "3. Define an object as the string 'PHYSICS'. Define an empty list. Use a for loop to append each letter of the string as an element of the list. The ending list should look like this: \n",
    "example_list = [P, H, Y, S, I, C, S]\n",
    "4. Create a list with a least 5 elements. Create another list that has elements equal to double the values of the elements of the first list.\n",
    "\n",
    "#### PHYSICS PROBLEMS\n",
    "\n",
    "We are going to revisist problem 1 from the previous set of exercises, but this time use lists and for loops to calculate over a variety of initial velocities. I will restate the physical situation:\n",
    "\n",
    "1. Consider a ball that starts from the ground with an initial speed and acceleration due to gravity being -10 m/s$^2$. The ball goes up, reaches a maximum height, and falls back to the ground where it started. Rather than consider one ball with just one initial velocity, we will define our initial velocity as a list. \n",
    "    * Define a list: init_vel_list = [5, 10, 15, 20, 25]. \n",
    "    * Define an empty lists for the following: time_top_list, time_tot_list, max_h_list. \n",
    "    * Using a for loop and the equations of kinematic motion, find the time it takes to reach max height for each initial velocity, append these values to time_top_list. \n",
    "    * Using a for loop, multiply each element of time_top_list and append these values to top_tot_list.\n",
    "    * Using a for loop, calculate the max height for each initial velocity and append these values to the max_h_list. \n",
    "    * Make sure to markdown before each step with a description of what you are trying to do. Comment alongside each line to explain the commands. \n",
    "    \n",
    "If you finish then look at problems 2 and 3 from the last exercise set and try to use lists and loops for those problems as well. "
   ]
  },
  {
   "cell_type": "code",
   "execution_count": null,
   "metadata": {},
   "outputs": [],
   "source": []
  }
 ],
 "metadata": {
  "kernelspec": {
   "display_name": "Python 3",
   "language": "python",
   "name": "python3"
  },
  "language_info": {
   "codemirror_mode": {
    "name": "ipython",
    "version": 3
   },
   "file_extension": ".py",
   "mimetype": "text/x-python",
   "name": "python",
   "nbconvert_exporter": "python",
   "pygments_lexer": "ipython3",
   "version": "3.5.3"
  }
 },
 "nbformat": 4,
 "nbformat_minor": 2
}
