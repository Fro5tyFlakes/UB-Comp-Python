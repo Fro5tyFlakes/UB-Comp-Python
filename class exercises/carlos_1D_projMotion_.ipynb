{
 "cells": [
  {
   "cell_type": "markdown",
   "metadata": {},
   "source": [
    "### Solving 1D Projectile Motion Problems\n",
    "Write down the equations that we need:\n",
    "* V_f = v_i + a t\n",
    "* y_f = y_i + v_i + 1/2 a t^2\n",
    "* v_f^2 = v_i^2 + 2a(y_f - y_i)\n",
    "\n",
    "Latex (optional)\n",
    "$$ V_f = v_i + at $$\n",
    "$$ y_f= y_i + v_i + 1/2at^2 $$\n",
    "$$ {Vf} ^2 = {v_i} ^2 + 2a (y_f - y_i) $$\n",
    "\n",
    "one dollar sign puts it in line $ x = 5$\n",
    "\n",
    "two dollar signs puts it on its own line in the middle\n",
    "$$ x=5$$\n",
    "\n",
    "lets define each variable physically with units \n",
    "* v_f : final velocity - m/s\n",
    "* v_i : initial velocity - m/s\n",
    "* y_f : final position - m\n",
    "* y_i : initial position (height) - m\n",
    "* a   : acceleration- m/s^2--> m/s/s\n",
    "* t   : seconds(s) \n",
    "Now its time to read the problem :\n",
    "\"Consider a ball that starts from the ground with an initial speed of 20 m/s  and acceleration due to gravity being -9.8 m/s 2 . The ball goes up, reaches a maximum height, and falls back to the ground where it started.\"\n",
    " \n",
    " Lets add a pciture of the situation :\n",
    " \n",
    " <img src=\"toss_rock_up_01.jpg\" width = \"500\"/>  html syntax\n",
    " \n",
    " Write Down Known Values: \n",
    " * y_i: inital position (height) -> 0m \n",
    " * a  : acceleration (change in velocity) -> -10 m/s^2 (downward)\n",
    " * y_f: final postion (height) -> 0 m\n",
    " * v_i: inital velocity (speed and direction) -> 20 m/s\n",
    " * v_ymax: velocity at the max height -> 0 \n",
    " \n",
    " New picture :\n",
    " \n",
    " <img src=\"toss_rock_up_02.jpg\" width = \"500\"/>\n",
    " Answers to the quesstions: \n",
    " \n",
    " 1. Velocity at the max is 0 m/s . v_ymax = 0\n",
    " \n",
    " 2. part a) Finding time it takes to reach max height. We want an equation like  \n",
    "  \n",
    "t_ymax = ...?\n",
    "  \n",
    "Chose the equation we are going to use:\n",
    "  \n",
    "v_f = v_i + a t\n",
    "  \n",
    "Let\n",
    "v_f --> v_ymax\n",
    "  \n",
    "and causes\n",
    "  \n",
    "t--> t_ymax\n",
    "  \n",
    "So that makes our equation look like this\n",
    "  \n",
    "v_ymax = v_i + a t_ymax\n",
    "  \n",
    "Now we want to solve for t_ymax using algebra:\n",
    "  \n",
    "v_ymax = v_i + a t_ymax\n",
    "\n",
    "i) v_ymax - v_i = v_i + a t_ymax <--- subtract by v_i on both sides\n",
    "\n",
    "ii) v_ymx - v_i = a t_ymax\n",
    "\n",
    "iii) 1/a (v_ymax - v_i) = (a t_ymax)1/a <--- divide by a to both sides or multiply by 1/a\n",
    "\n",
    "iv) switch t_ymax to the left side \n",
    "\n",
    "t_ymax = 1/a (v_ymax - v_i)\n",
    "\n",
    "Now go to the code cell and define the known variables and define an expression for t_ymax"
   ]
  },
  {
   "cell_type": "code",
   "execution_count": 38,
   "metadata": {},
   "outputs": [
    {
     "name": "stdout",
     "output_type": "stream",
     "text": [
      "The time to max heigh= 2.0 sec\n"
     ]
    }
   ],
   "source": [
    "# coding the calcuation for t_ymax\n",
    "# first define the known variables\n",
    "v_i = 20 # m/s  initial velocity\n",
    "v_ymax = 0 # velocity at the max height is 0\n",
    "a = -10 # m/s^2 acceleration, due to gravity as its coming down it's negative\n",
    "t_ymax = (v_ymax - v_i)/a # expression for t_ymax\n",
    "print('The time to max heigh=',t_ymax,'sec') # commas between words"
   ]
  },
  {
   "cell_type": "code",
   "execution_count": 39,
   "metadata": {},
   "outputs": [
    {
     "data": {
      "text/plain": [
       "2.0"
      ]
     },
     "execution_count": 39,
     "metadata": {},
     "output_type": "execute_result"
    }
   ],
   "source": [
    "t_ymax"
   ]
  },
  {
   "cell_type": "code",
   "execution_count": 40,
   "metadata": {},
   "outputs": [
    {
     "data": {
      "text/plain": [
       "19.6"
      ]
     },
     "execution_count": 40,
     "metadata": {},
     "output_type": "execute_result"
    }
   ],
   "source": [
    "9.8*2"
   ]
  },
  {
   "cell_type": "markdown",
   "metadata": {},
   "source": [
    "2. part b) finding the total time the ball is in the air\n",
    "We know that the total time is equal to 2 times the time it takes to reach max height"
   ]
  },
  {
   "cell_type": "code",
   "execution_count": 41,
   "metadata": {},
   "outputs": [
    {
     "name": "stdout",
     "output_type": "stream",
     "text": [
      " The total time the ball is in the air is 4.0 sec\n"
     ]
    }
   ],
   "source": [
    "# code the variable t_tot as 2 times t_ymax and print \n",
    "t_tot = 2* t_ymax\n",
    "print(' The total time the ball is in the air is',t_tot,'sec')"
   ]
  },
  {
   "cell_type": "raw",
   "metadata": {},
   "source": [
    "3. Finding the max height- ymax\n",
    "Determine the equation we are going to use:\n",
    "First, what do we know:\n",
    "* y_i: inital position (height) -> 0m \n",
    " * a  : acceleration (change in velocity) -> -10 m/s^2 (downward)\n",
    " * y_f: final postion (height) -> 0 m\n",
    " * v_i: inital velocity (speed and direction) -> 20 m/s\n",
    " * v_ymax: velocity at the max height -> 0 \n",
    " *t_ymax: total time to reach the max height -> 2 s\n",
    " *t_tot : total time of flight -> 4 s\n",
    " we want to find ymax:\n",
    " \n",
    " We should start with:\n",
    " y_max= y_i + v_i + 1/2 a t^2\n",
    " \n",
    " CHange y_f --> ymax and then t--> t_ymax\n",
    " \n",
    " so we have the equation:\n",
    " \n",
    " y_max = y_i + v_i( t_ymax) + 1/2 a (t_ymax)^2"
   ]
  },
  {
   "cell_type": "code",
   "execution_count": 44,
   "metadata": {},
   "outputs": [
    {
     "name": "stdout",
     "output_type": "stream",
     "text": [
      "The maximum height for thr ball is 20.0 meters\n"
     ]
    }
   ],
   "source": [
    "# caculating the max height-y_max\n",
    "# first we find the variables needed\n",
    "# new variables needed to define- y_max\n",
    "y_i = 0 #intitial height is 0 m\n",
    "y_max = y_i + v_i*t_ymax + 1/2 * a * (t_ymax)**2 # **= exponent\n",
    "print('The maximum height for thr ball is',y_max,'meters')"
   ]
  },
  {
   "cell_type": "markdown",
   "metadata": {},
   "source": [
    "Find the velocity as the ball hits the ground.\n",
    "final velocity as the ball hits the ground = -20 m/s"
   ]
  },
  {
   "cell_type": "code",
   "execution_count": null,
   "metadata": {},
   "outputs": [],
   "source": []
  }
 ],
 "metadata": {
  "kernelspec": {
   "display_name": "Python 3",
   "language": "python",
   "name": "python3"
  },
  "language_info": {
   "codemirror_mode": {
    "name": "ipython",
    "version": 3
   },
   "file_extension": ".py",
   "mimetype": "text/x-python",
   "name": "python",
   "nbconvert_exporter": "python",
   "pygments_lexer": "ipython3",
   "version": "3.5.3"
  }
 },
 "nbformat": 4,
 "nbformat_minor": 2
}
