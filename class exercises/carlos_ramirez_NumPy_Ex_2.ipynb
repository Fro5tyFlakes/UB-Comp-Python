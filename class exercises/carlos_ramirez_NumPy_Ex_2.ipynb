{
 "cells": [
  {
   "cell_type": "markdown",
   "metadata": {},
   "source": [
    "### EXERCISES\n",
    "\n",
    "1. Using one of the methods from np.random create an array of size 4,4 with random numbers from 0-100. You can have these numbers be ints or floats. \n",
    "    * Find the standard deviation. Find the variance. Find the mean.  \n",
    "    * Define an array that has the sum for each column.\n",
    "    * Define an array that is the product of the elements of the previous array.\n",
    "\n",
    "2. Practice using indexing for numpy arrays. \n",
    "    * Print the first row of the original (4,4) array.\n",
    "    * Print the last element of the third row.\n",
    "    * Print the second column. \n",
    "    * (Optional) Define an array for each column of the array. Use the np.hstack command to put all the columns back together and get the original matrix.\n",
    "    \n",
    "### Finance Applications \n",
    "Cash Flow:\n",
    "\n",
    "$$ CashFlow = Income - Expenses $$\n",
    "\n",
    "1. Create a function that computes the cash flow when given balues for income and expenses. Make sure to return the cash flow at the end of the function\n",
    "     \n",
    "     * Test the function with some values\n",
    "2. Create a 1d array of 50 random values between 1-20 for income and an array for Expenses\n",
    "\n",
    "    * Defind an object called Cash Flow that is equal to the results of passing these arrays through your function\n",
    "    * Use np.argmax/min and np.max/min to determine the maxuimum and minimum Cash Flows from the set from these random values.\n",
    "    * Next, use np.sum to sum both the income and expenses. Then, again use the function to calculate the total cash flow."
   ]
  },
  {
   "cell_type": "markdown",
   "metadata": {},
   "source": [
    "### Exercise 1.\n",
    "Using one of the methods from np.random create an array of size 4,4 with random numbers from 0-100. You can have these numbers be ints or floats"
   ]
  },
  {
   "cell_type": "code",
   "execution_count": 6,
   "metadata": {},
   "outputs": [
    {
     "data": {
      "text/plain": [
       "array([[ 0.91167858,  0.61098155,  0.16733474,  0.5796846 ],\n",
       "       [ 0.73874437,  0.46752908,  0.17495633,  0.67814197],\n",
       "       [ 0.38239899,  0.52958951,  0.90324335,  0.68920334],\n",
       "       [ 0.22090867,  0.09717974,  0.59214031,  0.20421372]])"
      ]
     },
     "execution_count": 6,
     "metadata": {},
     "output_type": "execute_result"
    }
   ],
   "source": [
    "import numpy as np\n",
    "a = np.random.rand(4,4)\n",
    "a"
   ]
  },
  {
   "cell_type": "code",
   "execution_count": 13,
   "metadata": {},
   "outputs": [
    {
     "name": "stdout",
     "output_type": "stream",
     "text": [
      "avg 0.496745552606\n",
      "varinace 0.0652079893196\n",
      "standard deviation 0.255358550512\n"
     ]
    }
   ],
   "source": [
    "print('avg',np.mean(a))\n",
    "calc_avg = np.mean(a)\n",
    "print ('varinace',np.var(a))\n",
    "print('standard deviation',np.std(a))"
   ]
  },
  {
   "cell_type": "code",
   "execution_count": 42,
   "metadata": {},
   "outputs": [
    {
     "name": "stdout",
     "output_type": "stream",
     "text": [
      "[13 16 10 23]\n"
     ]
    },
    {
     "data": {
      "text/plain": [
       "array([[1, 4, 6, 7],\n",
       "       [3, 8, 2, 9],\n",
       "       [9, 4, 2, 7]])"
      ]
     },
     "execution_count": 42,
     "metadata": {},
     "output_type": "execute_result"
    }
   ],
   "source": [
    "c = np.array([[1,4,6,7],[3,8,2,9],[9,4,2,7]]) \n",
    "col_sum = np.sum(c,axis = 0)\n",
    "print(col_sum)\n",
    "c"
   ]
  },
  {
   "cell_type": "markdown",
   "metadata": {},
   "source": [
    "### Exercise 2.\n",
    "* Print the first row of the original (4,4) array.\n",
    "    * Print the last element of the third row.\n",
    "    * Print the second column. \n",
    "    * (Optional) Define an array for each column of the array. Use the np.hstack command to put all the columns back together and get the original matrix."
   ]
  },
  {
   "cell_type": "code",
   "execution_count": 38,
   "metadata": {},
   "outputs": [
    {
     "name": "stdout",
     "output_type": "stream",
     "text": [
      "first row = [ 0.91167858  0.61098155  0.16733474  0.5796846 ]\n",
      "last element of third row =  0.689203341123\n"
     ]
    },
    {
     "data": {
      "text/plain": [
       "array([[ 0.91167858,  0.61098155],\n",
       "       [ 0.73874437,  0.46752908],\n",
       "       [ 0.38239899,  0.52958951],\n",
       "       [ 0.22090867,  0.09717974]])"
      ]
     },
     "execution_count": 38,
     "metadata": {},
     "output_type": "execute_result"
    }
   ],
   "source": [
    "print('first row =',a[0])\n",
    "print('last element of third row = ',a[2][3])\n",
    "a[:,0:2]"
   ]
  },
  {
   "cell_type": "markdown",
   "metadata": {},
   "source": [
    "### Finance Applications\n",
    "1. Create a function that computes the cash flow when given balues for income and expenses. Make sure to return the cash flow at the end of the function\n",
    "     \n",
    "     * Test the function with some values"
   ]
  },
  {
   "cell_type": "code",
   "execution_count": null,
   "metadata": {},
   "outputs": [],
   "source": []
  }
 ],
 "metadata": {
  "kernelspec": {
   "display_name": "Python 3",
   "language": "python",
   "name": "python3"
  },
  "language_info": {
   "codemirror_mode": {
    "name": "ipython",
    "version": 3
   },
   "file_extension": ".py",
   "mimetype": "text/x-python",
   "name": "python",
   "nbconvert_exporter": "python",
   "pygments_lexer": "ipython3",
   "version": "3.5.3"
  }
 },
 "nbformat": 4,
 "nbformat_minor": 2
}
