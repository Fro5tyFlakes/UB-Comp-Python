{
 "cells": [
  {
   "cell_type": "markdown",
   "metadata": {},
   "source": [
    "### Practice with lists "
   ]
  },
  {
   "cell_type": "code",
   "execution_count": 10,
   "metadata": {},
   "outputs": [
    {
     "data": {
      "text/plain": [
       "[2, 3, 4]"
      ]
     },
     "execution_count": 10,
     "metadata": {},
     "output_type": "execute_result"
    }
   ],
   "source": [
    "#define some lists \n",
    "xlist=[1,2,3,4,5]\n",
    "ylist=[2,4,6,8,10]\n",
    "\n",
    "#indexing the lists\n",
    "xlist[0]  # the value in the brackets is the index, to print out the first element of the list\n",
    "xlist[1]  # to print out the 2nd number in the list \n",
    "xlist[4]  # to print out the last number of the list\n",
    "xlist[-1] # how to get the last element in the list without using length\n",
    "xlist[:] # prints the whole list\n",
    "xlist[1:4]"
   ]
  },
  {
   "cell_type": "code",
   "execution_count": null,
   "metadata": {},
   "outputs": [],
   "source": [
    "# hardcode ylist = 2*xlist"
   ]
  }
 ],
 "metadata": {
  "kernelspec": {
   "display_name": "Python 3",
   "language": "python",
   "name": "python3"
  },
  "language_info": {
   "codemirror_mode": {
    "name": "ipython",
    "version": 3
   },
   "file_extension": ".py",
   "mimetype": "text/x-python",
   "name": "python",
   "nbconvert_exporter": "python",
   "pygments_lexer": "ipython3",
   "version": "3.5.3"
  }
 },
 "nbformat": 4,
 "nbformat_minor": 2
}
