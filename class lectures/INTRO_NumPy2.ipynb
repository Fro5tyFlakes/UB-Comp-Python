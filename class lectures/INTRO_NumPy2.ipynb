{
 "cells": [
  {
   "cell_type": "code",
   "execution_count": 1,
   "metadata": {},
   "outputs": [],
   "source": [
    "import numpy as np  # yup thats it"
   ]
  },
  {
   "cell_type": "markdown",
   "metadata": {},
   "source": [
    "### Random Sampling\n",
    "NumPy has some tools for generating random samples. Each has its specific usages and advantages. We will investigate a few of these briefly but again visit the NumPy documentation for a complete referrence. "
   ]
  },
  {
   "cell_type": "code",
   "execution_count": 2,
   "metadata": {},
   "outputs": [
    {
     "data": {
      "text/plain": [
       "array([ 0.88672613])"
      ]
     },
     "execution_count": 2,
     "metadata": {},
     "output_type": "execute_result"
    }
   ],
   "source": [
    "# you can create arrays with random values inside\n",
    "a = np.random.rand(1)  # random number from 0-1 \n",
    "a         # the 1 in the paranthesis is the dimension of array"
   ]
  },
  {
   "cell_type": "code",
   "execution_count": 4,
   "metadata": {},
   "outputs": [
    {
     "data": {
      "text/plain": [
       "array([[ 0.86177128,  0.67285231,  0.3488154 ,  0.52773414,  0.87891421],\n",
       "       [ 0.48697326,  0.22476421,  0.42574388,  0.59208076,  0.46938309],\n",
       "       [ 0.83643901,  0.46699673,  0.12301718,  0.10980369,  0.3247126 ],\n",
       "       [ 0.41995861,  0.37016867,  0.35911639,  0.05255109,  0.89078558],\n",
       "       [ 0.64153022,  0.84097852,  0.28141349,  0.73900582,  0.71072679]])"
      ]
     },
     "execution_count": 4,
     "metadata": {},
     "output_type": "execute_result"
    }
   ],
   "source": [
    "b = np.random.rand(5,5) # 5x5 array\n",
    "b"
   ]
  },
  {
   "cell_type": "code",
   "execution_count": 5,
   "metadata": {},
   "outputs": [
    {
     "data": {
      "text/plain": [
       "array([-0.56792753, -1.08690691,  1.8558237 ])"
      ]
     },
     "execution_count": 5,
     "metadata": {},
     "output_type": "execute_result"
    }
   ],
   "source": [
    "# very similar but this samples from normal distribution\n",
    "c = np.random.randn(3)\n",
    "c"
   ]
  },
  {
   "cell_type": "code",
   "execution_count": 13,
   "metadata": {},
   "outputs": [
    {
     "data": {
      "text/plain": [
       "2"
      ]
     },
     "execution_count": 13,
     "metadata": {},
     "output_type": "execute_result"
    }
   ],
   "source": [
    "# random integers \n",
    "d = np.random.randint(3)  # 3 is upper bound\n",
    "d"
   ]
  },
  {
   "cell_type": "code",
   "execution_count": 19,
   "metadata": {},
   "outputs": [
    {
     "data": {
      "text/plain": [
       "array([4, 4, 8, 1, 2])"
      ]
     },
     "execution_count": 19,
     "metadata": {},
     "output_type": "execute_result"
    }
   ],
   "source": [
    "rand = np.random.randint(1,10, size = 5)  # (low, high, size)\n",
    "rand"
   ]
  },
  {
   "cell_type": "code",
   "execution_count": 20,
   "metadata": {},
   "outputs": [
    {
     "data": {
      "text/plain": [
       "array([[ 1.76405235,  0.40015721,  0.97873798],\n",
       "       [ 2.2408932 ,  1.86755799, -0.97727788],\n",
       "       [ 0.95008842, -0.15135721, -0.10321885],\n",
       "       [ 0.4105985 ,  0.14404357,  1.45427351]])"
      ]
     },
     "execution_count": 20,
     "metadata": {},
     "output_type": "execute_result"
    }
   ],
   "source": [
    "# using a seed for repeatable results\n",
    "np.random.seed(0)\n",
    "rand_arr = np.random.randn(4,3)\n",
    "rand_arr"
   ]
  },
  {
   "cell_type": "markdown",
   "metadata": {},
   "source": [
    "### Common functions for NumPy arrays"
   ]
  },
  {
   "cell_type": "code",
   "execution_count": 25,
   "metadata": {},
   "outputs": [
    {
     "name": "stdout",
     "output_type": "stream",
     "text": [
      "avg 3.8\n"
     ]
    },
    {
     "data": {
      "text/plain": [
       "0.76000000000000001"
      ]
     },
     "execution_count": 25,
     "metadata": {},
     "output_type": "execute_result"
    }
   ],
   "source": [
    "# mean of values in an array\n",
    "print('avg',np.mean(rand))\n",
    "calc_avg = np.sum(rand)/25\n",
    "calc_avg"
   ]
  },
  {
   "cell_type": "code",
   "execution_count": 26,
   "metadata": {},
   "outputs": [
    {
     "data": {
      "text/plain": [
       "5.7599999999999998"
      ]
     },
     "execution_count": 26,
     "metadata": {},
     "output_type": "execute_result"
    }
   ],
   "source": [
    "# variance \n",
    "np.var(rand)"
   ]
  },
  {
   "cell_type": "code",
   "execution_count": 27,
   "metadata": {},
   "outputs": [
    {
     "data": {
      "text/plain": [
       "2.3999999999999999"
      ]
     },
     "execution_count": 27,
     "metadata": {},
     "output_type": "execute_result"
    }
   ],
   "source": [
    "# standard deviation\n",
    "np.std(rand)"
   ]
  },
  {
   "cell_type": "code",
   "execution_count": 28,
   "metadata": {},
   "outputs": [
    {
     "data": {
      "text/plain": [
       "19"
      ]
     },
     "execution_count": 28,
     "metadata": {},
     "output_type": "execute_result"
    }
   ],
   "source": [
    "# sum of the values\n",
    "np.sum(rand)"
   ]
  },
  {
   "cell_type": "code",
   "execution_count": 30,
   "metadata": {},
   "outputs": [
    {
     "name": "stdout",
     "output_type": "stream",
     "text": [
      "[[1 2]\n",
      " [3 4]]\n"
     ]
    },
    {
     "data": {
      "text/plain": [
       "array([4, 6])"
      ]
     },
     "execution_count": 30,
     "metadata": {},
     "output_type": "execute_result"
    }
   ],
   "source": [
    "# for matrices that are not 1d, specify axis\n",
    "v = np.array([[1,2],[3,4]])\n",
    "print(v)\n",
    "row_sum = np.sum(v, axis=0)\n",
    "row_sum"
   ]
  },
  {
   "cell_type": "code",
   "execution_count": 31,
   "metadata": {},
   "outputs": [
    {
     "name": "stdout",
     "output_type": "stream",
     "text": [
      "[[1 2]\n",
      " [3 4]]\n"
     ]
    },
    {
     "data": {
      "text/plain": [
       "array([4, 6])"
      ]
     },
     "execution_count": 31,
     "metadata": {},
     "output_type": "execute_result"
    }
   ],
   "source": [
    "col_sum = np.sum(v, axis=0)\n",
    "print(v)\n",
    "col_sum"
   ]
  },
  {
   "cell_type": "code",
   "execution_count": 46,
   "metadata": {},
   "outputs": [
    {
     "name": "stdout",
     "output_type": "stream",
     "text": [
      "[-0.74475482 -0.82643854 -0.09845252 -0.66347829  1.12663592 -1.07993151\n",
      " -1.14746865 -0.43782004 -0.49803245  1.92953205]\n",
      "1.92953205382\n",
      "-1.14746865241\n"
     ]
    }
   ],
   "source": [
    "# you can find the min and max \n",
    "sample = np.random.randn(10)\n",
    "sample_max = np.max(sample)\n",
    "sample_min = np.min(sample)\n",
    "print(sample)\n",
    "print(sample_max)\n",
    "print(sample_min)"
   ]
  },
  {
   "cell_type": "code",
   "execution_count": 47,
   "metadata": {},
   "outputs": [
    {
     "name": "stdout",
     "output_type": "stream",
     "text": [
      "9\n"
     ]
    },
    {
     "data": {
      "text/plain": [
       "6"
      ]
     },
     "execution_count": 47,
     "metadata": {},
     "output_type": "execute_result"
    }
   ],
   "source": [
    "# use argmax and argmin to find the index for min and mx values\n",
    "print(np.argmax(sample))\n",
    "np.argmin(sample)  # python indexing starts from 0"
   ]
  },
  {
   "cell_type": "code",
   "execution_count": 48,
   "metadata": {},
   "outputs": [
    {
     "name": "stdout",
     "output_type": "stream",
     "text": [
      "data [[ 0.94942081  0.08755124 -1.22543552  0.84436298]\n",
      " [-1.00021535 -1.5447711   1.18802979  0.31694261]\n",
      " [ 0.92085882  0.31872765  0.85683061 -0.65102559]\n",
      " [-1.03424284  0.68159452 -0.80340966 -0.68954978]]\n",
      "totals [-0.16417856 -0.45689768  0.01601522 -0.17926978]\n"
     ]
    },
    {
     "data": {
      "text/plain": [
       "(2, 0.016015221250983869)"
      ]
     },
     "execution_count": 48,
     "metadata": {},
     "output_type": "execute_result"
    }
   ],
   "source": [
    "# you can combine commands together\n",
    "data = np.random.randn(4,4) # create random data\n",
    "print('data',data)\n",
    "col_totals = np.sum(data, axis=0)  # total the columns\n",
    "print('totals',col_totals)\n",
    "max_col_total = (np.argmax(col_totals),np.max(col_totals))\n",
    "max_col_total  # 1st output is the index, 2nd is the value for max"
   ]
  },
  {
   "cell_type": "code",
   "execution_count": 49,
   "metadata": {},
   "outputs": [
    {
     "data": {
      "text/plain": [
       "(2, 0.016015221250983869)"
      ]
     },
     "execution_count": 49,
     "metadata": {},
     "output_type": "execute_result"
    }
   ],
   "source": [
    "# heres how to do in 1 line\n",
    "max_col_tot = (np.argmax(np.sum(data,axis=0)),\n",
    "               np.max(np.sum(data,axis=0)))\n",
    "max_col_tot"
   ]
  },
  {
   "cell_type": "markdown",
   "metadata": {},
   "source": [
    "### PHYSICS EXAMPLE\n",
    "Lets say everyday we record the average temperature for an object. We are interested in finding the day where the object had its maximum temperature. We will first generate random data and this use numpy functions to find the answer. "
   ]
  },
  {
   "cell_type": "code",
   "execution_count": 50,
   "metadata": {},
   "outputs": [
    {
     "name": "stdout",
     "output_type": "stream",
     "text": [
      "time of max temp -  55 days\n",
      "max temp -  49.0914694909 degrees Celsius\n"
     ]
    }
   ],
   "source": [
    "# generate random temperature (must be positive)\n",
    "temp_data = 50*np.random.rand(100)\n",
    "print('time of max temp - ',np.argmax(temp_data)+1, 'days')\n",
    "print('max temp - ',np.max(temp_data), 'degrees Celsius')"
   ]
  },
  {
   "cell_type": "code",
   "execution_count": 51,
   "metadata": {},
   "outputs": [
    {
     "name": "stdout",
     "output_type": "stream",
     "text": [
      "[[1 2 3]\n",
      " [4 5 6]\n",
      " [7 8 9]]\n"
     ]
    },
    {
     "data": {
      "text/plain": [
       "(3, 3)"
      ]
     },
     "execution_count": 51,
     "metadata": {},
     "output_type": "execute_result"
    }
   ],
   "source": [
    "# shape gets the dimensions\n",
    "a = np.array([[1,2,3],[4,5,6],[7,8,9]])  # syntax for 3x3\n",
    "print(a)\n",
    "a.shape"
   ]
  },
  {
   "cell_type": "code",
   "execution_count": 52,
   "metadata": {},
   "outputs": [
    {
     "data": {
      "text/plain": [
       "3"
      ]
     },
     "execution_count": 52,
     "metadata": {},
     "output_type": "execute_result"
    }
   ],
   "source": [
    "# len still works\n",
    "len(a)"
   ]
  },
  {
   "cell_type": "code",
   "execution_count": 53,
   "metadata": {},
   "outputs": [
    {
     "name": "stdout",
     "output_type": "stream",
     "text": [
      "1\n",
      "5\n",
      "9\n",
      "[1 2 3]\n",
      "[[1 2 3]\n",
      " [4 5 6]]\n"
     ]
    },
    {
     "data": {
      "text/plain": [
       "array([[1, 2],\n",
       "       [4, 5],\n",
       "       [7, 8]])"
      ]
     },
     "execution_count": 53,
     "metadata": {},
     "output_type": "execute_result"
    }
   ],
   "source": [
    "# you can index through the elements of the array\n",
    "print(a[0][0])  # first element of first row\n",
    "print(a[1][1]) # second element of second row\n",
    "print(a[-1][-1])  # last element second row\n",
    "print(a[0])  # first row\n",
    "print(a[0:2])  # first 2 rows\n",
    "a[:,0:2]  # first 2 columns"
   ]
  },
  {
   "cell_type": "code",
   "execution_count": 54,
   "metadata": {},
   "outputs": [
    {
     "data": {
      "text/plain": [
       "array([1, 2, 3, 4, 5, 6])"
      ]
     },
     "execution_count": 54,
     "metadata": {},
     "output_type": "execute_result"
    }
   ],
   "source": [
    "# merging numpy arrays horizontally\n",
    "first = np.array([1,2,3])\n",
    "second = np.array([4,5,6])\n",
    "frst_scnd = np.hstack((first,second))\n",
    "frst_scnd"
   ]
  },
  {
   "cell_type": "code",
   "execution_count": 55,
   "metadata": {},
   "outputs": [
    {
     "data": {
      "text/plain": [
       "array([[1, 2, 3],\n",
       "       [4, 5, 6]])"
      ]
     },
     "execution_count": 55,
     "metadata": {},
     "output_type": "execute_result"
    }
   ],
   "source": [
    "# merge vertically\n",
    "new_arr = np.vstack((first,second))\n",
    "new_arr"
   ]
  },
  {
   "cell_type": "code",
   "execution_count": null,
   "metadata": {},
   "outputs": [],
   "source": []
  }
 ],
 "metadata": {
  "kernelspec": {
   "display_name": "Python 3",
   "language": "python",
   "name": "python3"
  },
  "language_info": {
   "codemirror_mode": {
    "name": "ipython",
    "version": 3
   },
   "file_extension": ".py",
   "mimetype": "text/x-python",
   "name": "python",
   "nbconvert_exporter": "python",
   "pygments_lexer": "ipython3",
   "version": "3.5.3"
  }
 },
 "nbformat": 4,
 "nbformat_minor": 2
}
