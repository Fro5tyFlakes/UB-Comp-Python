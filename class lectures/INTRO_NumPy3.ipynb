{
 "cells": [
  {
   "cell_type": "code",
   "execution_count": 3,
   "metadata": {},
   "outputs": [],
   "source": [
    "import numpy as np  # yup thats it"
   ]
  },
  {
   "cell_type": "markdown",
   "metadata": {},
   "source": [
    "### NumPy Mathematics\n",
    "Another important aspect of using the NumPy package is its extensive amount of mathematical functions. This could be exponentials, trigonometric functions, square root, etc...\n",
    "\n",
    "I've included a bunch of examples of using these commands but I strongly recommend visiting the NumPy documentation to see the complete list of commands."
   ]
  },
  {
   "cell_type": "code",
   "execution_count": 4,
   "metadata": {},
   "outputs": [
    {
     "name": "stdout",
     "output_type": "stream",
     "text": [
      "3.141592653589793\n",
      "2.718281828459045\n"
     ]
    },
    {
     "data": {
      "text/plain": [
       "inf"
      ]
     },
     "execution_count": 4,
     "metadata": {},
     "output_type": "execute_result"
    }
   ],
   "source": [
    "# mathematical constants\n",
    "print(np.pi)  \n",
    "print(np.e)\n",
    "np.inf"
   ]
  },
  {
   "cell_type": "code",
   "execution_count": 5,
   "metadata": {},
   "outputs": [
    {
     "name": "stdout",
     "output_type": "stream",
     "text": [
      "1.0\n",
      "-1.0\n"
     ]
    },
    {
     "data": {
      "text/plain": [
       "-1.2246467991473532e-16"
      ]
     },
     "execution_count": 5,
     "metadata": {},
     "output_type": "execute_result"
    }
   ],
   "source": [
    "# trig functions\n",
    "print(np.sin(np.pi/2))  # takes radian values\n",
    "print(np.cos(np.pi))\n",
    "np.tan(np.pi)  # approximations"
   ]
  },
  {
   "cell_type": "code",
   "execution_count": 6,
   "metadata": {},
   "outputs": [
    {
     "data": {
      "text/plain": [
       "180.0"
      ]
     },
     "execution_count": 6,
     "metadata": {},
     "output_type": "execute_result"
    }
   ],
   "source": [
    "# radians to degress\n",
    "np.degrees(np.pi)"
   ]
  },
  {
   "cell_type": "code",
   "execution_count": 7,
   "metadata": {},
   "outputs": [
    {
     "data": {
      "text/plain": [
       "3.1415926535897931"
      ]
     },
     "execution_count": 7,
     "metadata": {},
     "output_type": "execute_result"
    }
   ],
   "source": [
    "# degrees to radians\n",
    "np.radians(180.0)"
   ]
  },
  {
   "cell_type": "code",
   "execution_count": 8,
   "metadata": {},
   "outputs": [
    {
     "data": {
      "text/plain": [
       "20.085536923187668"
      ]
     },
     "execution_count": 8,
     "metadata": {},
     "output_type": "execute_result"
    }
   ],
   "source": [
    "np.e  # is the value of e\n",
    "\n",
    "# exponential functions\n",
    "np.exp(3)\n"
   ]
  },
  {
   "cell_type": "code",
   "execution_count": 9,
   "metadata": {},
   "outputs": [
    {
     "data": {
      "text/plain": [
       "array([[-0.33333333,  0.66666667],\n",
       "       [ 0.66666667, -0.33333333]])"
      ]
     },
     "execution_count": 9,
     "metadata": {},
     "output_type": "execute_result"
    }
   ],
   "source": [
    "# linear algebra \n",
    "a = np.array([[1,2],[2,1]]) # define 3x3 matrix\n",
    "inv_a = np.linalg.inv(a)  # inverse \n",
    "inv_a"
   ]
  },
  {
   "cell_type": "code",
   "execution_count": 10,
   "metadata": {},
   "outputs": [
    {
     "data": {
      "text/plain": [
       "array([[ 1.,  0.],\n",
       "       [ 0.,  1.]])"
      ]
     },
     "execution_count": 10,
     "metadata": {},
     "output_type": "execute_result"
    }
   ],
   "source": [
    "# dot product of 2 matrices\n",
    "np.dot(a, inv_a)"
   ]
  },
  {
   "cell_type": "code",
   "execution_count": 11,
   "metadata": {},
   "outputs": [
    {
     "name": "stdout",
     "output_type": "stream",
     "text": [
      "a\n",
      "[[1 2]\n",
      " [3 4]]\n",
      "transpose of a\n",
      "[[1 3]\n",
      " [2 4]]\n"
     ]
    }
   ],
   "source": [
    "# transpose of a matrix\n",
    "a_matrix = np.array([[1,2],[3,4]])\n",
    "trans_a = a_matrix.T\n",
    "print('a')\n",
    "print(a_matrix)\n",
    "print('transpose of a')\n",
    "print(trans_a)"
   ]
  },
  {
   "cell_type": "code",
   "execution_count": 12,
   "metadata": {},
   "outputs": [
    {
     "data": {
      "text/plain": [
       "-2.0000000000000004"
      ]
     },
     "execution_count": 12,
     "metadata": {},
     "output_type": "execute_result"
    }
   ],
   "source": [
    "# determinant of a matrix\n",
    "a_det = np.linalg.det(a_matrix)\n",
    "a_det"
   ]
  },
  {
   "cell_type": "code",
   "execution_count": 13,
   "metadata": {},
   "outputs": [
    {
     "data": {
      "text/plain": [
       "(array([-0.37228132,  5.37228132]), array([[-0.82456484, -0.41597356],\n",
       "        [ 0.56576746, -0.90937671]]))"
      ]
     },
     "execution_count": 13,
     "metadata": {},
     "output_type": "execute_result"
    }
   ],
   "source": [
    "# find the eigenvalues and eigenvectors of a matrix\n",
    "a_eig = np.linalg.eig(a_matrix)\n",
    "a_eig  # outputs in form array([eigenvalues]), array([eigenvectors])"
   ]
  },
  {
   "cell_type": "code",
   "execution_count": 14,
   "metadata": {},
   "outputs": [
    {
     "data": {
      "text/plain": [
       "-1.9999999999999998"
      ]
     },
     "execution_count": 14,
     "metadata": {},
     "output_type": "execute_result"
    }
   ],
   "source": [
    "# just like np.sum you can mulitply across an array\n",
    "# determinant = product of eigenvalues\n",
    "det = np.prod(a_eig[0])  # the first element of a_eig are the eigvalues\n",
    "det "
   ]
  },
  {
   "cell_type": "code",
   "execution_count": 15,
   "metadata": {},
   "outputs": [
    {
     "data": {
      "text/plain": [
       "False"
      ]
     },
     "execution_count": 15,
     "metadata": {},
     "output_type": "execute_result"
    }
   ],
   "source": [
    "# to show how python approximates\n",
    "det == a_det"
   ]
  },
  {
   "cell_type": "code",
   "execution_count": 16,
   "metadata": {},
   "outputs": [
    {
     "data": {
      "text/plain": [
       "True"
      ]
     },
     "execution_count": 16,
     "metadata": {},
     "output_type": "execute_result"
    }
   ],
   "source": [
    "round(det) == round(a_det)"
   ]
  },
  {
   "cell_type": "markdown",
   "metadata": {},
   "source": [
    "### Saving and Reading Data Files\n",
    "This will be brief but I should mention these functions as a part of the NumPy package. We will revisit saving and reading data files later in the course."
   ]
  },
  {
   "cell_type": "code",
   "execution_count": 17,
   "metadata": {},
   "outputs": [
    {
     "data": {
      "text/plain": [
       "array([[6, 7, 9, 5, 8, 4, 4, 6, 3, 4],\n",
       "       [1, 2, 3, 6, 0, 6, 3, 1, 1, 2],\n",
       "       [8, 6, 3, 2, 7, 1, 5, 1, 3, 7],\n",
       "       [6, 9, 6, 3, 0, 7, 3, 7, 2, 4],\n",
       "       [2, 7, 8, 4, 0, 1, 7, 9, 3, 9],\n",
       "       [5, 3, 6, 4, 2, 5, 4, 3, 8, 3],\n",
       "       [9, 8, 8, 4, 0, 8, 9, 3, 2, 2],\n",
       "       [7, 0, 9, 0, 0, 0, 6, 3, 9, 5],\n",
       "       [8, 2, 5, 7, 4, 4, 4, 5, 0, 9],\n",
       "       [7, 5, 2, 6, 7, 9, 5, 6, 9, 4]])"
      ]
     },
     "execution_count": 17,
     "metadata": {},
     "output_type": "execute_result"
    }
   ],
   "source": [
    "# create random array to be saved as datafile\n",
    "ex_datafile = np.random.randint(0,10,size = (10,10))\n",
    "ex_datafile "
   ]
  },
  {
   "cell_type": "code",
   "execution_count": 18,
   "metadata": {},
   "outputs": [],
   "source": [
    "# save numpy array as csv\n",
    "np.savetxt(\"datafile.csv\", ex_datafile, delimiter=\",\")"
   ]
  },
  {
   "cell_type": "code",
   "execution_count": 19,
   "metadata": {},
   "outputs": [
    {
     "name": "stdout",
     "output_type": "stream",
     "text": [
      "datafile.csv\n",
      "INTRO_NumPy1.ipynb\n",
      "INTRO_NumPy2.ipynb\n",
      "INTRO_NumPy3.ipynb\n",
      "INTRO_NumPy.ipynb\n",
      "INTRO_PYTHON1_file_control&basic_computing.ipynb\n",
      "INTRO_PYTHON2_defining_objects.ipynb\n",
      "INTRO_PYTHON3_lists&for_loops.ipynb\n",
      "INTRO_PYTHON4_if_statements&functions.ipynb\n",
      "INTRO_PYTHON.ipynb\n",
      "Learn_MatPlotLib.ipynb\n",
      "Practicing Conditional Statements.ipynb\n",
      "Sample_Project.ipynb\n"
     ]
    }
   ],
   "source": [
    "# file is saved in current directory \n",
    "# to view all the files in the directory use this command\n",
    "%ls"
   ]
  },
  {
   "cell_type": "code",
   "execution_count": 21,
   "metadata": {},
   "outputs": [],
   "source": [
    "# to read in files that are saved in the directory\n",
    "data = np.loadtxt(\"datafile.csv\", delimiter = \",\")"
   ]
  },
  {
   "cell_type": "code",
   "execution_count": 25,
   "metadata": {},
   "outputs": [],
   "source": [
    "attendance = data[:,0:1]\n",
    "grade_lvl = data[:,1:2]"
   ]
  },
  {
   "cell_type": "code",
   "execution_count": null,
   "metadata": {},
   "outputs": [],
   "source": []
  }
 ],
 "metadata": {
  "kernelspec": {
   "display_name": "Python 3",
   "language": "python",
   "name": "python3"
  },
  "language_info": {
   "codemirror_mode": {
    "name": "ipython",
    "version": 3
   },
   "file_extension": ".py",
   "mimetype": "text/x-python",
   "name": "python",
   "nbconvert_exporter": "python",
   "pygments_lexer": "ipython3",
   "version": "3.5.3"
  }
 },
 "nbformat": 4,
 "nbformat_minor": 2
}
