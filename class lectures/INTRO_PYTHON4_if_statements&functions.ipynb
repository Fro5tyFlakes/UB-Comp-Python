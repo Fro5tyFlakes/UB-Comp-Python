{
 "cells": [
  {
   "cell_type": "markdown",
   "metadata": {},
   "source": [
    "### Lists and For Loops\n",
    "Variables can be defined for different objects. For example we could save a list of values like this:"
   ]
  },
  {
   "cell_type": "code",
   "execution_count": 1,
   "metadata": {},
   "outputs": [
    {
     "data": {
      "text/plain": [
       "[0, 1, 2, 3, 4, 5]"
      ]
     },
     "execution_count": 1,
     "metadata": {},
     "output_type": "execute_result"
    }
   ],
   "source": [
    "my_list = [0,1,2,3,4,5]  # list syntax\n",
    "my_list"
   ]
  },
  {
   "cell_type": "code",
   "execution_count": 2,
   "metadata": {},
   "outputs": [
    {
     "name": "stdout",
     "output_type": "stream",
     "text": [
      "0\n",
      "[0, 1, 2, 3, 4, 5]\n",
      "[2, 3, 4]\n",
      "5\n",
      "[5, 4, 3, 2, 1, 0]\n"
     ]
    }
   ],
   "source": [
    "# accessing elements of a list\n",
    "print(my_list[0])  # first elemement of the list\n",
    "print(my_list[:])  # print entire list\n",
    "print(my_list[2:5]) # print the third, fourth, and fifth elements of list\n",
    "print(my_list[-1])  # print last element of list\n",
    "print(my_list[::-1])  # reverse the list"
   ]
  },
  {
   "cell_type": "code",
   "execution_count": 3,
   "metadata": {},
   "outputs": [
    {
     "data": {
      "text/plain": [
       "[0, 1, 2, 3, 4, 5, 6, 7, 8, 9]"
      ]
     },
     "execution_count": 3,
     "metadata": {},
     "output_type": "execute_result"
    }
   ],
   "source": [
    "# lists can be created using a for loop\n",
    "new_list = [i for i in range(10)]  # the for loop adds each number from 0-9 to the list\n",
    "new_list"
   ]
  },
  {
   "cell_type": "code",
   "execution_count": 4,
   "metadata": {},
   "outputs": [
    {
     "data": {
      "text/plain": [
       "[0, 1, 2, 3, 4, 5, 6, 7, 8, 9]"
      ]
     },
     "execution_count": 4,
     "metadata": {},
     "output_type": "execute_result"
    }
   ],
   "source": [
    "# using for loops and append command\n",
    "cool_list = []  # create an empty list\n",
    "for i in range(10):  # for loop over values 0-9\n",
    "    cool_list.append(i)  # add each value to the list from 0-9\n",
    "cool_list"
   ]
  },
  {
   "cell_type": "code",
   "execution_count": 5,
   "metadata": {},
   "outputs": [
    {
     "data": {
      "text/plain": [
       "[0, 1, 4, 9, 16, 25, 36, 49, 64, 81]"
      ]
     },
     "execution_count": 5,
     "metadata": {},
     "output_type": "execute_result"
    }
   ],
   "source": [
    "# using a list to make new list and using len command\n",
    "super_cool_list = []   \n",
    "for i in range(len(cool_list)):   # or loop goes from 0 to the length of cool_list\n",
    "    super_cool_list.append(cool_list[i]**2)  # for each item in cool_list we square and append to super_cool_list\n",
    "super_cool_list"
   ]
  },
  {
   "cell_type": "markdown",
   "metadata": {},
   "source": [
    "### PHYSICS EXAMPLE USING LISTS\n",
    "We all know the famous equation from Newton's Laws:\n",
    "\n",
    "$$ F= m a $$\n",
    "\n",
    "F : Force\n",
    "\n",
    "m : mass \n",
    "\n",
    "a : acceleration\n",
    "\n",
    "If a ball has a mass of 5 kg and I give you a list of accelerations [2,4,6,8,10] m/s^2. Can you use lists to find the corresponding force for each acceleration?"
   ]
  },
  {
   "cell_type": "code",
   "execution_count": 6,
   "metadata": {},
   "outputs": [
    {
     "data": {
      "text/plain": [
       "[10, 20, 30, 40, 50]"
      ]
     },
     "execution_count": 6,
     "metadata": {},
     "output_type": "execute_result"
    }
   ],
   "source": [
    "# define each list and mass variable\n",
    "accel_list = [2,4,6,8,10]\n",
    "Force_list = []\n",
    "m_kg = 5\n",
    "\n",
    "\n",
    "# write loop to calculate forces\n",
    "for i in range(len(accel_list)):\n",
    "    Force_list.append(accel_list[i]*m_kg)\n",
    "\n",
    "# print \n",
    "Force_list"
   ]
  },
  {
   "cell_type": "markdown",
   "metadata": {},
   "source": [
    "### IF Statements\n",
    "\n",
    "If statements are extremely useful if you want to do something only if a condition is met. Here is an example using our Force_list. Say we want to find how many forces in our list exceed a certain value. We can use if statements to determine these values. "
   ]
  },
  {
   "cell_type": "code",
   "execution_count": 20,
   "metadata": {},
   "outputs": [
    {
     "name": "stdout",
     "output_type": "stream",
     "text": [
      "0 index\n",
      "10\n",
      "10 this is above 5\n",
      "['true']\n",
      "1 index\n",
      "20\n",
      "20 this is above 5\n",
      "['true', 'true']\n",
      "2 index\n",
      "30\n",
      "30 this is above 5\n",
      "['true', 'true', 'true']\n",
      "3 index\n",
      "40\n",
      "40 this is above 5\n",
      "['true', 'true', 'true', 'true']\n",
      "4 index\n",
      "50\n",
      "50 this is above 5\n",
      "['true', 'true', 'true', 'true', 'true']\n",
      "true False List ['true', 'true', 'true', 'true', 'true']\n"
     ]
    }
   ],
   "source": [
    "tf_list = []  # empty list where i will store the true and false values\n",
    "for i in range(0,len(Force_list),1):# starts from 0 and goes to the length of the list\n",
    "    print(i,'index')\n",
    "    print(Force_list[i]),'value'\n",
    "    if Force_list[i] > 5:     # if the element of force_list is greater than 5 do the following\n",
    "        tf_list.append('true')  # add the string 'true' to the list tf_list\n",
    "        print(Force_list[i], 'this is above 5')\n",
    "    \n",
    "    else:   # if the previous statement is not met do the following\n",
    "        tf_list.append('false')  # add the string 'false' to the list tf_list\n",
    "    print(tf_list)\n",
    "        \n",
    "print('true False List', tf_list)"
   ]
  },
  {
   "cell_type": "markdown",
   "metadata": {},
   "source": [
    "### Functions\n",
    "Let's say you want to calculate force for any acceleration value. We can use a python function that can be called and given an input to be calculated. The syntax looks like this:"
   ]
  },
  {
   "cell_type": "code",
   "execution_count": 11,
   "metadata": {},
   "outputs": [],
   "source": [
    "m_kg = 5 # mass of 5 kg\n",
    "\n",
    "def calc_force(a):   # define function with a being input\n",
    "    force = m_kg*a  # write mathematical expression\n",
    "    return force  # return means the value will be the output\n",
    "    "
   ]
  },
  {
   "cell_type": "code",
   "execution_count": 12,
   "metadata": {},
   "outputs": [
    {
     "data": {
      "text/plain": [
       "75"
      ]
     },
     "execution_count": 12,
     "metadata": {},
     "output_type": "execute_result"
    }
   ],
   "source": [
    "# we can now define an accelration and call the function\n",
    "b = 15\n",
    "calc_force(b)"
   ]
  },
  {
   "cell_type": "markdown",
   "metadata": {},
   "source": [
    "What if we wanted to use this function for a list of accel values"
   ]
  },
  {
   "cell_type": "code",
   "execution_count": 27,
   "metadata": {},
   "outputs": [],
   "source": [
    "def calc_force(x):  # define the function name to be called\n",
    "    force_list = []  # by defining the empty list inside the function it is cleared evertime its called\n",
    "    for i in range(len(x)):  # loop from 0 to length of the list\n",
    "        force_list.append(x[i]*m_kg)  # add the result for each step to the list for force\n",
    "    return force_list # this will return the complete list after all the caculations"
   ]
  },
  {
   "cell_type": "code",
   "execution_count": 28,
   "metadata": {},
   "outputs": [
    {
     "data": {
      "text/plain": [
       "[10, 20, 30, 40, 50]"
      ]
     },
     "execution_count": 28,
     "metadata": {},
     "output_type": "execute_result"
    }
   ],
   "source": [
    "force_list1 = calc_force(accel_list)  # pass the function to the accel list,\n",
    "force_list1"
   ]
  },
  {
   "cell_type": "code",
   "execution_count": 29,
   "metadata": {},
   "outputs": [
    {
     "data": {
      "text/plain": [
       "[20, 40, 60, 80, 100]"
      ]
     },
     "execution_count": 29,
     "metadata": {},
     "output_type": "execute_result"
    }
   ],
   "source": [
    "new_accel_list = [i for i in range(20,120,20)] # made a list with values 20, 40, 60, 80, 100\n",
    "new_accel_list   # range starts from 20 and goes to 120 by steps of 20. "
   ]
  },
  {
   "cell_type": "code",
   "execution_count": 30,
   "metadata": {},
   "outputs": [
    {
     "data": {
      "text/plain": [
       "[100, 200, 300, 400, 500]"
      ]
     },
     "execution_count": 30,
     "metadata": {},
     "output_type": "execute_result"
    }
   ],
   "source": [
    "force_list2 = calc_force(new_accel_list)   # function can be called for a whole new set of accel values\n",
    "force_list2"
   ]
  },
  {
   "cell_type": "markdown",
   "metadata": {},
   "source": [
    "### Make a function for solving the quadratic equation\n",
    "Use pythin function to solve these formualas"
   ]
  },
  {
   "cell_type": "code",
   "execution_count": 5,
   "metadata": {},
   "outputs": [],
   "source": [
    "# quad formula caculator\n",
    "import math\n",
    "def calc_quad_form_plus(a,b,c):\n",
    "    x= (-b+math.sqrt(b**2 - 4*a*c))/(2*a)\n",
    "    return x"
   ]
  },
  {
   "cell_type": "code",
   "execution_count": 6,
   "metadata": {},
   "outputs": [
    {
     "data": {
      "text/plain": [
       "-1.0"
      ]
     },
     "execution_count": 6,
     "metadata": {},
     "output_type": "execute_result"
    }
   ],
   "source": [
    "calc_quad_form_plus(2,4,2)"
   ]
  },
  {
   "cell_type": "markdown",
   "metadata": {},
   "source": [
    "### PRACTICE WRITING FUNCTIONS\n",
    "Can you write a function that determines if the elements of a list of forces is greater that 250? Try to write this function and pass it our previous list of forces."
   ]
  },
  {
   "cell_type": "code",
   "execution_count": 31,
   "metadata": {},
   "outputs": [],
   "source": [
    "def is_above_250(x):\n",
    "    tf_list = []\n",
    "    for i in range(len(x)):\n",
    "        if x[i] > 250:\n",
    "            tf_list.append('true')\n",
    "        else:\n",
    "            tf_list.append('false')\n",
    "    return tf_list"
   ]
  },
  {
   "cell_type": "code",
   "execution_count": 32,
   "metadata": {},
   "outputs": [
    {
     "data": {
      "text/plain": [
       "['false', 'false', 'false', 'false', 'false']"
      ]
     },
     "execution_count": 32,
     "metadata": {},
     "output_type": "execute_result"
    }
   ],
   "source": [
    "is_above_250(force_list1)"
   ]
  },
  {
   "cell_type": "code",
   "execution_count": 33,
   "metadata": {},
   "outputs": [
    {
     "data": {
      "text/plain": [
       "['false', 'false', 'true', 'true', 'true']"
      ]
     },
     "execution_count": 33,
     "metadata": {},
     "output_type": "execute_result"
    }
   ],
   "source": [
    "is_above_250(force_list2)"
   ]
  },
  {
   "cell_type": "code",
   "execution_count": 8,
   "metadata": {},
   "outputs": [
    {
     "data": {
      "text/plain": [
       "12.0"
      ]
     },
     "execution_count": 8,
     "metadata": {},
     "output_type": "execute_result"
    }
   ],
   "source": [
    "-8+(40**1/2)"
   ]
  },
  {
   "cell_type": "code",
   "execution_count": null,
   "metadata": {},
   "outputs": [],
   "source": []
  }
 ],
 "metadata": {
  "kernelspec": {
   "display_name": "Python 3",
   "language": "python",
   "name": "python3"
  },
  "language_info": {
   "codemirror_mode": {
    "name": "ipython",
    "version": 3
   },
   "file_extension": ".py",
   "mimetype": "text/x-python",
   "name": "python",
   "nbconvert_exporter": "python",
   "pygments_lexer": "ipython3",
   "version": "3.5.3"
  }
 },
 "nbformat": 4,
 "nbformat_minor": 2
}
