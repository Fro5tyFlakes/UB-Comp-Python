{
 "cells": [
  {
   "cell_type": "markdown",
   "metadata": {},
   "source": [
    "### Importing Data Files into a Python Notebook\n",
    "\n",
    "So far we have shown ways to create data, simulate data, calculate data, or in simple terms collect data. This is great but sometimes it is easier to solve the problem or answer the question for your project to find data online. In the science world, data collected by detectors or from different experiments, is often available for download online. In this notebook, we will show a few examples of different file types and the corresponding different commands used to import the data into the notebook.\n",
    "\n",
    "#### Import packages"
   ]
  },
  {
   "cell_type": "code",
   "execution_count": 2,
   "metadata": {},
   "outputs": [],
   "source": [
    "import numpy as np\n",
    "#import pandas as pd   \n",
    "# these packages have the most common commands for \n",
    "# importing data\n",
    "import matplotlib.pyplot as plt\n",
    "%matplotlib inline\n",
    "# for plotting"
   ]
  },
  {
   "cell_type": "markdown",
   "metadata": {},
   "source": [
    "#### Locate, Download, and Save Data in Working Directory\n",
    "\n",
    "Before we can import the data, we of course need to find a dataset that we want to use. We need to then download and save the file in the same directory (folder) that the notebook is in. For us, this is the Class Lectures folder.\n",
    "\n",
    "We are going to download a txt file, a csv file, and a xls file. The links below is where we will download each file for today. (Make sure to save to the Class Lectures folder!!!)\n",
    "\n",
    "https://climate.nasa.gov/vital-signs/global-temperature/\n",
    "\n",
    "https://raw.githubusercontent.com/GokuMohandas/practicalAI/master/data/titanic.csv\n",
    "\n",
    "https://www.ers.usda.gov/data-products/county-level-data-sets/download-data/\n",
    "\n",
    "#### Importing txt files\n"
   ]
  },
  {
   "cell_type": "code",
   "execution_count": 3,
   "metadata": {},
   "outputs": [
    {
     "data": {
      "text/plain": [
       "array([[  1.88000000e+03,  -1.70000000e-01,  -9.00000000e-02],\n",
       "       [  1.88100000e+03,  -8.00000000e-02,  -1.30000000e-01],\n",
       "       [  1.88200000e+03,  -1.10000000e-01,  -1.70000000e-01],\n",
       "       [  1.88300000e+03,  -1.70000000e-01,  -2.00000000e-01],\n",
       "       [  1.88400000e+03,  -2.80000000e-01,  -2.30000000e-01],\n",
       "       [  1.88500000e+03,  -3.30000000e-01,  -2.60000000e-01],\n",
       "       [  1.88600000e+03,  -3.10000000e-01,  -2.70000000e-01],\n",
       "       [  1.88700000e+03,  -3.50000000e-01,  -2.70000000e-01],\n",
       "       [  1.88800000e+03,  -1.70000000e-01,  -2.60000000e-01],\n",
       "       [  1.88900000e+03,  -1.00000000e-01,  -2.50000000e-01],\n",
       "       [  1.89000000e+03,  -3.50000000e-01,  -2.50000000e-01],\n",
       "       [  1.89100000e+03,  -2.20000000e-01,  -2.50000000e-01],\n",
       "       [  1.89200000e+03,  -2.60000000e-01,  -2.60000000e-01],\n",
       "       [  1.89300000e+03,  -3.00000000e-01,  -2.50000000e-01],\n",
       "       [  1.89400000e+03,  -2.80000000e-01,  -2.30000000e-01],\n",
       "       [  1.89500000e+03,  -2.20000000e-01,  -2.10000000e-01],\n",
       "       [  1.89600000e+03,  -1.00000000e-01,  -1.90000000e-01],\n",
       "       [  1.89700000e+03,  -1.00000000e-01,  -1.70000000e-01],\n",
       "       [  1.89800000e+03,  -2.60000000e-01,  -1.60000000e-01],\n",
       "       [  1.89900000e+03,  -1.70000000e-01,  -1.70000000e-01],\n",
       "       [  1.90000000e+03,  -7.00000000e-02,  -1.90000000e-01],\n",
       "       [  1.90100000e+03,  -1.50000000e-01,  -2.30000000e-01],\n",
       "       [  1.90200000e+03,  -2.80000000e-01,  -2.60000000e-01],\n",
       "       [  1.90300000e+03,  -3.70000000e-01,  -2.80000000e-01],\n",
       "       [  1.90400000e+03,  -4.70000000e-01,  -3.10000000e-01],\n",
       "       [  1.90500000e+03,  -2.60000000e-01,  -3.40000000e-01],\n",
       "       [  1.90600000e+03,  -2.20000000e-01,  -3.60000000e-01],\n",
       "       [  1.90700000e+03,  -3.90000000e-01,  -3.70000000e-01],\n",
       "       [  1.90800000e+03,  -4.30000000e-01,  -3.90000000e-01],\n",
       "       [  1.90900000e+03,  -4.80000000e-01,  -4.10000000e-01],\n",
       "       [  1.91000000e+03,  -4.40000000e-01,  -4.10000000e-01],\n",
       "       [  1.91100000e+03,  -4.40000000e-01,  -3.90000000e-01],\n",
       "       [  1.91200000e+03,  -3.60000000e-01,  -3.50000000e-01],\n",
       "       [  1.91300000e+03,  -3.50000000e-01,  -3.30000000e-01],\n",
       "       [  1.91400000e+03,  -1.60000000e-01,  -3.20000000e-01],\n",
       "       [  1.91500000e+03,  -1.40000000e-01,  -3.10000000e-01],\n",
       "       [  1.91600000e+03,  -3.60000000e-01,  -3.00000000e-01],\n",
       "       [  1.91700000e+03,  -4.60000000e-01,  -3.00000000e-01],\n",
       "       [  1.91800000e+03,  -3.00000000e-01,  -3.00000000e-01],\n",
       "       [  1.91900000e+03,  -2.80000000e-01,  -3.00000000e-01],\n",
       "       [  1.92000000e+03,  -2.80000000e-01,  -2.80000000e-01],\n",
       "       [  1.92100000e+03,  -1.90000000e-01,  -2.70000000e-01],\n",
       "       [  1.92200000e+03,  -2.80000000e-01,  -2.60000000e-01],\n",
       "       [  1.92300000e+03,  -2.70000000e-01,  -2.50000000e-01],\n",
       "       [  1.92400000e+03,  -2.80000000e-01,  -2.40000000e-01],\n",
       "       [  1.92500000e+03,  -2.30000000e-01,  -2.30000000e-01],\n",
       "       [  1.92600000e+03,  -1.10000000e-01,  -2.30000000e-01],\n",
       "       [  1.92700000e+03,  -2.30000000e-01,  -2.20000000e-01],\n",
       "       [  1.92800000e+03,  -2.10000000e-01,  -2.00000000e-01],\n",
       "       [  1.92900000e+03,  -3.70000000e-01,  -2.00000000e-01],\n",
       "       [  1.93000000e+03,  -1.60000000e-01,  -2.00000000e-01],\n",
       "       [  1.93100000e+03,  -1.00000000e-01,  -1.90000000e-01],\n",
       "       [  1.93200000e+03,  -1.60000000e-01,  -1.80000000e-01],\n",
       "       [  1.93300000e+03,  -2.80000000e-01,  -1.70000000e-01],\n",
       "       [  1.93400000e+03,  -1.30000000e-01,  -1.60000000e-01],\n",
       "       [  1.93500000e+03,  -2.00000000e-01,  -1.40000000e-01],\n",
       "       [  1.93600000e+03,  -1.50000000e-01,  -1.10000000e-01],\n",
       "       [  1.93700000e+03,  -3.00000000e-02,  -7.00000000e-02],\n",
       "       [  1.93800000e+03,  -1.00000000e-02,  -2.00000000e-02],\n",
       "       [  1.93900000e+03,  -2.00000000e-02,   3.00000000e-02],\n",
       "       [  1.94000000e+03,   1.20000000e-01,   6.00000000e-02],\n",
       "       [  1.94100000e+03,   1.80000000e-01,   9.00000000e-02],\n",
       "       [  1.94200000e+03,   7.00000000e-02,   1.00000000e-01],\n",
       "       [  1.94300000e+03,   9.00000000e-02,   1.00000000e-01],\n",
       "       [  1.94400000e+03,   2.00000000e-01,   7.00000000e-02],\n",
       "       [  1.94500000e+03,   9.00000000e-02,   4.00000000e-02],\n",
       "       [  1.94600000e+03,  -8.00000000e-02,   0.00000000e+00],\n",
       "       [  1.94700000e+03,  -3.00000000e-02,  -4.00000000e-02],\n",
       "       [  1.94800000e+03,  -1.10000000e-01,  -7.00000000e-02],\n",
       "       [  1.94900000e+03,  -1.10000000e-01,  -8.00000000e-02],\n",
       "       [  1.95000000e+03,  -1.80000000e-01,  -8.00000000e-02],\n",
       "       [  1.95100000e+03,  -7.00000000e-02,  -7.00000000e-02],\n",
       "       [  1.95200000e+03,   1.00000000e-02,  -7.00000000e-02],\n",
       "       [  1.95300000e+03,   8.00000000e-02,  -7.00000000e-02],\n",
       "       [  1.95400000e+03,  -1.30000000e-01,  -7.00000000e-02],\n",
       "       [  1.95500000e+03,  -1.40000000e-01,  -6.00000000e-02],\n",
       "       [  1.95600000e+03,  -1.90000000e-01,  -5.00000000e-02],\n",
       "       [  1.95700000e+03,   5.00000000e-02,  -4.00000000e-02],\n",
       "       [  1.95800000e+03,   6.00000000e-02,  -1.00000000e-02],\n",
       "       [  1.95900000e+03,   3.00000000e-02,   2.00000000e-02],\n",
       "       [  1.96000000e+03,  -2.00000000e-02,   3.00000000e-02],\n",
       "       [  1.96100000e+03,   6.00000000e-02,   2.00000000e-02],\n",
       "       [  1.96200000e+03,   4.00000000e-02,  -1.00000000e-02],\n",
       "       [  1.96300000e+03,   5.00000000e-02,  -2.00000000e-02],\n",
       "       [  1.96400000e+03,  -2.00000000e-01,  -4.00000000e-02],\n",
       "       [  1.96500000e+03,  -1.10000000e-01,  -5.00000000e-02],\n",
       "       [  1.96600000e+03,  -6.00000000e-02,  -6.00000000e-02],\n",
       "       [  1.96700000e+03,  -2.00000000e-02,  -5.00000000e-02],\n",
       "       [  1.96800000e+03,  -8.00000000e-02,  -3.00000000e-02],\n",
       "       [  1.96900000e+03,   6.00000000e-02,  -2.00000000e-02],\n",
       "       [  1.97000000e+03,   2.00000000e-02,  -0.00000000e+00],\n",
       "       [  1.97100000e+03,  -8.00000000e-02,   0.00000000e+00],\n",
       "       [  1.97200000e+03,   1.00000000e-02,   0.00000000e+00],\n",
       "       [  1.97300000e+03,   1.60000000e-01,  -0.00000000e+00],\n",
       "       [  1.97400000e+03,  -7.00000000e-02,   0.00000000e+00],\n",
       "       [  1.97500000e+03,  -1.00000000e-02,   2.00000000e-02],\n",
       "       [  1.97600000e+03,  -1.00000000e-01,   4.00000000e-02],\n",
       "       [  1.97700000e+03,   1.80000000e-01,   7.00000000e-02],\n",
       "       [  1.97800000e+03,   7.00000000e-02,   1.20000000e-01],\n",
       "       [  1.97900000e+03,   1.60000000e-01,   1.60000000e-01],\n",
       "       [  1.98000000e+03,   2.60000000e-01,   2.00000000e-01],\n",
       "       [  1.98100000e+03,   3.20000000e-01,   2.10000000e-01],\n",
       "       [  1.98200000e+03,   1.40000000e-01,   2.10000000e-01],\n",
       "       [  1.98300000e+03,   3.10000000e-01,   2.10000000e-01],\n",
       "       [  1.98400000e+03,   1.50000000e-01,   2.10000000e-01],\n",
       "       [  1.98500000e+03,   1.10000000e-01,   2.20000000e-01],\n",
       "       [  1.98600000e+03,   1.80000000e-01,   2.40000000e-01],\n",
       "       [  1.98700000e+03,   3.20000000e-01,   2.70000000e-01],\n",
       "       [  1.98800000e+03,   3.80000000e-01,   3.00000000e-01],\n",
       "       [  1.98900000e+03,   2.70000000e-01,   3.30000000e-01],\n",
       "       [  1.99000000e+03,   4.50000000e-01,   3.30000000e-01],\n",
       "       [  1.99100000e+03,   4.00000000e-01,   3.20000000e-01],\n",
       "       [  1.99200000e+03,   2.20000000e-01,   3.30000000e-01],\n",
       "       [  1.99300000e+03,   2.30000000e-01,   3.30000000e-01],\n",
       "       [  1.99400000e+03,   3.10000000e-01,   3.40000000e-01],\n",
       "       [  1.99500000e+03,   4.50000000e-01,   3.70000000e-01],\n",
       "       [  1.99600000e+03,   3.30000000e-01,   4.00000000e-01],\n",
       "       [  1.99700000e+03,   4.70000000e-01,   4.20000000e-01],\n",
       "       [  1.99800000e+03,   6.10000000e-01,   4.40000000e-01],\n",
       "       [  1.99900000e+03,   3.80000000e-01,   4.70000000e-01],\n",
       "       [  2.00000000e+03,   3.90000000e-01,   5.00000000e-01],\n",
       "       [  2.00100000e+03,   5.30000000e-01,   5.20000000e-01],\n",
       "       [  2.00200000e+03,   6.20000000e-01,   5.50000000e-01],\n",
       "       [  2.00300000e+03,   6.20000000e-01,   5.80000000e-01],\n",
       "       [  2.00400000e+03,   5.40000000e-01,   6.10000000e-01],\n",
       "       [  2.00500000e+03,   6.80000000e-01,   6.20000000e-01],\n",
       "       [  2.00600000e+03,   6.40000000e-01,   6.20000000e-01],\n",
       "       [  2.00700000e+03,   6.60000000e-01,   6.30000000e-01],\n",
       "       [  2.00800000e+03,   5.40000000e-01,   6.40000000e-01],\n",
       "       [  2.00900000e+03,   6.50000000e-01,   6.40000000e-01],\n",
       "       [  2.01000000e+03,   7.20000000e-01,   6.40000000e-01],\n",
       "       [  2.01100000e+03,   6.00000000e-01,   6.60000000e-01],\n",
       "       [  2.01200000e+03,   6.40000000e-01,   6.90000000e-01],\n",
       "       [  2.01300000e+03,   6.80000000e-01,   7.30000000e-01],\n",
       "       [  2.01400000e+03,   7.40000000e-01,   7.80000000e-01],\n",
       "       [  2.01500000e+03,   9.00000000e-01,   8.20000000e-01],\n",
       "       [  2.01600000e+03,   1.01000000e+00,   8.70000000e-01],\n",
       "       [  2.01700000e+03,   9.20000000e-01,   9.10000000e-01],\n",
       "       [  2.01800000e+03,   8.50000000e-01,   9.60000000e-01]])"
      ]
     },
     "execution_count": 3,
     "metadata": {},
     "output_type": "execute_result"
    }
   ],
   "source": [
    "temp_data = np.loadtxt('tempdata.txt')\n",
    "temp_data"
   ]
  },
  {
   "cell_type": "code",
   "execution_count": 4,
   "metadata": {},
   "outputs": [
    {
     "data": {
      "text/plain": [
       "numpy.ndarray"
      ]
     },
     "execution_count": 4,
     "metadata": {},
     "output_type": "execute_result"
    }
   ],
   "source": [
    "type(temp_data)"
   ]
  },
  {
   "cell_type": "code",
   "execution_count": 5,
   "metadata": {},
   "outputs": [
    {
     "data": {
      "text/plain": [
       "(139, 3)"
      ]
     },
     "execution_count": 5,
     "metadata": {},
     "output_type": "execute_result"
    }
   ],
   "source": [
    "temp_data.shape"
   ]
  },
  {
   "cell_type": "markdown",
   "metadata": {},
   "source": [
    "#### Splitting the array into columns"
   ]
  },
  {
   "cell_type": "code",
   "execution_count": 6,
   "metadata": {},
   "outputs": [
    {
     "data": {
      "text/plain": [
       "array([  1.88000000e+03,  -1.70000000e-01,  -9.00000000e-02])"
      ]
     },
     "execution_count": 6,
     "metadata": {},
     "output_type": "execute_result"
    }
   ],
   "source": [
    "temp_data[0]"
   ]
  },
  {
   "cell_type": "code",
   "execution_count": 7,
   "metadata": {},
   "outputs": [
    {
     "data": {
      "text/plain": [
       "1880.0"
      ]
     },
     "execution_count": 7,
     "metadata": {},
     "output_type": "execute_result"
    }
   ],
   "source": [
    "temp_data[0,0]"
   ]
  },
  {
   "cell_type": "code",
   "execution_count": 8,
   "metadata": {},
   "outputs": [
    {
     "data": {
      "text/plain": [
       "array([ 1880.,  1881.,  1882.,  1883.,  1884.,  1885.,  1886.,  1887.,\n",
       "        1888.,  1889.,  1890.,  1891.,  1892.,  1893.,  1894.,  1895.,\n",
       "        1896.,  1897.,  1898.,  1899.,  1900.,  1901.,  1902.,  1903.,\n",
       "        1904.,  1905.,  1906.,  1907.,  1908.,  1909.,  1910.,  1911.,\n",
       "        1912.,  1913.,  1914.,  1915.,  1916.,  1917.,  1918.,  1919.,\n",
       "        1920.,  1921.,  1922.,  1923.,  1924.,  1925.,  1926.,  1927.,\n",
       "        1928.,  1929.,  1930.,  1931.,  1932.,  1933.,  1934.,  1935.,\n",
       "        1936.,  1937.,  1938.,  1939.,  1940.,  1941.,  1942.,  1943.,\n",
       "        1944.,  1945.,  1946.,  1947.,  1948.,  1949.,  1950.,  1951.,\n",
       "        1952.,  1953.,  1954.,  1955.,  1956.,  1957.,  1958.,  1959.,\n",
       "        1960.,  1961.,  1962.,  1963.,  1964.,  1965.,  1966.,  1967.,\n",
       "        1968.,  1969.,  1970.,  1971.,  1972.,  1973.,  1974.,  1975.,\n",
       "        1976.,  1977.,  1978.,  1979.,  1980.,  1981.,  1982.,  1983.,\n",
       "        1984.,  1985.,  1986.,  1987.,  1988.,  1989.,  1990.,  1991.,\n",
       "        1992.,  1993.,  1994.,  1995.,  1996.,  1997.,  1998.,  1999.,\n",
       "        2000.,  2001.,  2002.,  2003.,  2004.,  2005.,  2006.,  2007.,\n",
       "        2008.,  2009.,  2010.,  2011.,  2012.,  2013.,  2014.,  2015.,\n",
       "        2016.,  2017.,  2018.])"
      ]
     },
     "execution_count": 8,
     "metadata": {},
     "output_type": "execute_result"
    }
   ],
   "source": [
    "years = temp_data[:,0]\n",
    "years"
   ]
  },
  {
   "cell_type": "code",
   "execution_count": 9,
   "metadata": {},
   "outputs": [
    {
     "data": {
      "text/plain": [
       "array([-0.17, -0.08, -0.11, -0.17, -0.28, -0.33, -0.31, -0.35, -0.17,\n",
       "       -0.1 , -0.35, -0.22, -0.26, -0.3 , -0.28, -0.22, -0.1 , -0.1 ,\n",
       "       -0.26, -0.17, -0.07, -0.15, -0.28, -0.37, -0.47, -0.26, -0.22,\n",
       "       -0.39, -0.43, -0.48, -0.44, -0.44, -0.36, -0.35, -0.16, -0.14,\n",
       "       -0.36, -0.46, -0.3 , -0.28, -0.28, -0.19, -0.28, -0.27, -0.28,\n",
       "       -0.23, -0.11, -0.23, -0.21, -0.37, -0.16, -0.1 , -0.16, -0.28,\n",
       "       -0.13, -0.2 , -0.15, -0.03, -0.01, -0.02,  0.12,  0.18,  0.07,\n",
       "        0.09,  0.2 ,  0.09, -0.08, -0.03, -0.11, -0.11, -0.18, -0.07,\n",
       "        0.01,  0.08, -0.13, -0.14, -0.19,  0.05,  0.06,  0.03, -0.02,\n",
       "        0.06,  0.04,  0.05, -0.2 , -0.11, -0.06, -0.02, -0.08,  0.06,\n",
       "        0.02, -0.08,  0.01,  0.16, -0.07, -0.01, -0.1 ,  0.18,  0.07,\n",
       "        0.16,  0.26,  0.32,  0.14,  0.31,  0.15,  0.11,  0.18,  0.32,\n",
       "        0.38,  0.27,  0.45,  0.4 ,  0.22,  0.23,  0.31,  0.45,  0.33,\n",
       "        0.47,  0.61,  0.38,  0.39,  0.53,  0.62,  0.62,  0.54,  0.68,\n",
       "        0.64,  0.66,  0.54,  0.65,  0.72,  0.6 ,  0.64,  0.68,  0.74,\n",
       "        0.9 ,  1.01,  0.92,  0.85])"
      ]
     },
     "execution_count": 9,
     "metadata": {},
     "output_type": "execute_result"
    }
   ],
   "source": [
    "raw_data = temp_data[:,1]   # check 1904 : -49 degrees C\n",
    "raw_data"
   ]
  },
  {
   "cell_type": "code",
   "execution_count": 10,
   "metadata": {},
   "outputs": [
    {
     "data": {
      "text/plain": [
       "array([-0.09, -0.13, -0.17, -0.2 , -0.23, -0.26, -0.27, -0.27, -0.26,\n",
       "       -0.25, -0.25, -0.25, -0.26, -0.25, -0.23, -0.21, -0.19, -0.17,\n",
       "       -0.16, -0.17, -0.19, -0.23, -0.26, -0.28, -0.31, -0.34, -0.36,\n",
       "       -0.37, -0.39, -0.41, -0.41, -0.39, -0.35, -0.33, -0.32, -0.31,\n",
       "       -0.3 , -0.3 , -0.3 , -0.3 , -0.28, -0.27, -0.26, -0.25, -0.24,\n",
       "       -0.23, -0.23, -0.22, -0.2 , -0.2 , -0.2 , -0.19, -0.18, -0.17,\n",
       "       -0.16, -0.14, -0.11, -0.07, -0.02,  0.03,  0.06,  0.09,  0.1 ,\n",
       "        0.1 ,  0.07,  0.04,  0.  , -0.04, -0.07, -0.08, -0.08, -0.07,\n",
       "       -0.07, -0.07, -0.07, -0.06, -0.05, -0.04, -0.01,  0.02,  0.03,\n",
       "        0.02, -0.01, -0.02, -0.04, -0.05, -0.06, -0.05, -0.03, -0.02,\n",
       "       -0.  ,  0.  ,  0.  , -0.  ,  0.  ,  0.02,  0.04,  0.07,  0.12,\n",
       "        0.16,  0.2 ,  0.21,  0.21,  0.21,  0.21,  0.22,  0.24,  0.27,\n",
       "        0.3 ,  0.33,  0.33,  0.32,  0.33,  0.33,  0.34,  0.37,  0.4 ,\n",
       "        0.42,  0.44,  0.47,  0.5 ,  0.52,  0.55,  0.58,  0.61,  0.62,\n",
       "        0.62,  0.63,  0.64,  0.64,  0.64,  0.66,  0.69,  0.73,  0.78,\n",
       "        0.82,  0.87,  0.91,  0.96])"
      ]
     },
     "execution_count": 10,
     "metadata": {},
     "output_type": "execute_result"
    }
   ],
   "source": [
    "smooth = temp_data[:,2]\n",
    "smooth"
   ]
  },
  {
   "cell_type": "markdown",
   "metadata": {},
   "source": [
    "#### Recreate Plot from Website"
   ]
  },
  {
   "cell_type": "code",
   "execution_count": 11,
   "metadata": {},
   "outputs": [
    {
     "data": {
      "image/png": "[encoded data removed]",
      "text/plain": [
       "<matplotlib.figure.Figure at 0x6f21aeb0>"
      ]
     },
     "metadata": {
      "needs_background": "light"
     },
     "output_type": "display_data"
    }
   ],
   "source": [
    "_ = plt.plot(years, raw_data, 'bo-', label = 'Annual Mean')\n",
    "_ = plt.plot(years, smooth, 'k-', label = 'Lowess Smoothing')\n",
    "plt.xlabel('Year')\n",
    "plt.ylabel('Temperature Anomally [C]')\n",
    "plt.legend()\n",
    "plt.show()"
   ]
  },
  {
   "cell_type": "markdown",
   "metadata": {},
   "source": [
    "#### Fitting a Line "
   ]
  },
  {
   "cell_type": "code",
   "execution_count": 12,
   "metadata": {},
   "outputs": [
    {
     "data": {
      "image/png": "[encoded data removed]",
      "text/plain": [
       "<matplotlib.figure.Figure at 0x6f181930>"
      ]
     },
     "metadata": {
      "needs_background": "light"
     },
     "output_type": "display_data"
    }
   ],
   "source": [
    "_ = plt.plot(years, raw_data, 'bo-', label = 'Annual Mean')\n",
    "_ = plt.plot(years, smooth, 'k-', label = 'Lowess Smoothing')\n",
    "_ = plt.plot(years, np.poly1d(np.polyfit(years, raw_data, 1))(years), 'r', label = 'Fit Line')\n",
    "plt.xlabel('Year')\n",
    "plt.ylabel('Temperature Anomally [C]')\n",
    "plt.legend()\n",
    "plt.show()"
   ]
  },
  {
   "cell_type": "markdown",
   "metadata": {},
   "source": [
    "#### Importing csv files"
   ]
  },
  {
   "cell_type": "code",
   "execution_count": 26,
   "metadata": {},
   "outputs": [
    {
     "ename": "ValueError",
     "evalue": "could not convert string to float: b'pclass,name,sex,age,sibsp,parch,ticket,fare,cabin,embarked,survived'",
     "output_type": "error",
     "traceback": [
      "\u001b[0;31m---------------------------------------------------------------------------\u001b[0m",
      "\u001b[0;31mValueError\u001b[0m                                Traceback (most recent call last)",
      "\u001b[0;32m<ipython-input-26-ef083d405513>\u001b[0m in \u001b[0;36m<module>\u001b[0;34m\u001b[0m\n\u001b[0;32m----> 1\u001b[0;31m \u001b[0mtitanic_data\u001b[0m \u001b[0;34m=\u001b[0m \u001b[0mnp\u001b[0m\u001b[0;34m.\u001b[0m\u001b[0mloadtxt\u001b[0m\u001b[0;34m(\u001b[0m\u001b[0;34m'titanic.csv'\u001b[0m\u001b[0;34m)\u001b[0m\u001b[0;34m\u001b[0m\u001b[0m\n\u001b[0m",
      "\u001b[0;32m/usr/lib/python3/dist-packages/numpy/lib/npyio.py\u001b[0m in \u001b[0;36mloadtxt\u001b[0;34m(fname, dtype, comments, delimiter, converters, skiprows, usecols, unpack, ndmin)\u001b[0m\n\u001b[1;32m    983\u001b[0m \u001b[0;34m\u001b[0m\u001b[0m\n\u001b[1;32m    984\u001b[0m             \u001b[0;31m# Convert each value according to its column and store\u001b[0m\u001b[0;34m\u001b[0m\u001b[0;34m\u001b[0m\u001b[0m\n\u001b[0;32m--> 985\u001b[0;31m             \u001b[0mitems\u001b[0m \u001b[0;34m=\u001b[0m \u001b[0;34m[\u001b[0m\u001b[0mconv\u001b[0m\u001b[0;34m(\u001b[0m\u001b[0mval\u001b[0m\u001b[0;34m)\u001b[0m \u001b[0;32mfor\u001b[0m \u001b[0;34m(\u001b[0m\u001b[0mconv\u001b[0m\u001b[0;34m,\u001b[0m \u001b[0mval\u001b[0m\u001b[0;34m)\u001b[0m \u001b[0;32min\u001b[0m \u001b[0mzip\u001b[0m\u001b[0;34m(\u001b[0m\u001b[0mconverters\u001b[0m\u001b[0;34m,\u001b[0m \u001b[0mvals\u001b[0m\u001b[0;34m)\u001b[0m\u001b[0;34m]\u001b[0m\u001b[0;34m\u001b[0m\u001b[0m\n\u001b[0m\u001b[1;32m    986\u001b[0m             \u001b[0;31m# Then pack it according to the dtype's nesting\u001b[0m\u001b[0;34m\u001b[0m\u001b[0;34m\u001b[0m\u001b[0m\n\u001b[1;32m    987\u001b[0m             \u001b[0mitems\u001b[0m \u001b[0;34m=\u001b[0m \u001b[0mpack_items\u001b[0m\u001b[0;34m(\u001b[0m\u001b[0mitems\u001b[0m\u001b[0;34m,\u001b[0m \u001b[0mpacking\u001b[0m\u001b[0;34m)\u001b[0m\u001b[0;34m\u001b[0m\u001b[0m\n",
      "\u001b[0;32m/usr/lib/python3/dist-packages/numpy/lib/npyio.py\u001b[0m in \u001b[0;36m<listcomp>\u001b[0;34m(.0)\u001b[0m\n\u001b[1;32m    983\u001b[0m \u001b[0;34m\u001b[0m\u001b[0m\n\u001b[1;32m    984\u001b[0m             \u001b[0;31m# Convert each value according to its column and store\u001b[0m\u001b[0;34m\u001b[0m\u001b[0;34m\u001b[0m\u001b[0m\n\u001b[0;32m--> 985\u001b[0;31m             \u001b[0mitems\u001b[0m \u001b[0;34m=\u001b[0m \u001b[0;34m[\u001b[0m\u001b[0mconv\u001b[0m\u001b[0;34m(\u001b[0m\u001b[0mval\u001b[0m\u001b[0;34m)\u001b[0m \u001b[0;32mfor\u001b[0m \u001b[0;34m(\u001b[0m\u001b[0mconv\u001b[0m\u001b[0;34m,\u001b[0m \u001b[0mval\u001b[0m\u001b[0;34m)\u001b[0m \u001b[0;32min\u001b[0m \u001b[0mzip\u001b[0m\u001b[0;34m(\u001b[0m\u001b[0mconverters\u001b[0m\u001b[0;34m,\u001b[0m \u001b[0mvals\u001b[0m\u001b[0;34m)\u001b[0m\u001b[0;34m]\u001b[0m\u001b[0;34m\u001b[0m\u001b[0m\n\u001b[0m\u001b[1;32m    986\u001b[0m             \u001b[0;31m# Then pack it according to the dtype's nesting\u001b[0m\u001b[0;34m\u001b[0m\u001b[0;34m\u001b[0m\u001b[0m\n\u001b[1;32m    987\u001b[0m             \u001b[0mitems\u001b[0m \u001b[0;34m=\u001b[0m \u001b[0mpack_items\u001b[0m\u001b[0;34m(\u001b[0m\u001b[0mitems\u001b[0m\u001b[0;34m,\u001b[0m \u001b[0mpacking\u001b[0m\u001b[0;34m)\u001b[0m\u001b[0;34m\u001b[0m\u001b[0m\n",
      "\u001b[0;32m/usr/lib/python3/dist-packages/numpy/lib/npyio.py\u001b[0m in \u001b[0;36mfloatconv\u001b[0;34m(x)\u001b[0m\n\u001b[1;32m    685\u001b[0m         \u001b[0;32mif\u001b[0m \u001b[0;34mb'0x'\u001b[0m \u001b[0;32min\u001b[0m \u001b[0mx\u001b[0m\u001b[0;34m:\u001b[0m\u001b[0;34m\u001b[0m\u001b[0m\n\u001b[1;32m    686\u001b[0m             \u001b[0;32mreturn\u001b[0m \u001b[0mfloat\u001b[0m\u001b[0;34m.\u001b[0m\u001b[0mfromhex\u001b[0m\u001b[0;34m(\u001b[0m\u001b[0masstr\u001b[0m\u001b[0;34m(\u001b[0m\u001b[0mx\u001b[0m\u001b[0;34m)\u001b[0m\u001b[0;34m)\u001b[0m\u001b[0;34m\u001b[0m\u001b[0m\n\u001b[0;32m--> 687\u001b[0;31m         \u001b[0;32mreturn\u001b[0m \u001b[0mfloat\u001b[0m\u001b[0;34m(\u001b[0m\u001b[0mx\u001b[0m\u001b[0;34m)\u001b[0m\u001b[0;34m\u001b[0m\u001b[0m\n\u001b[0m\u001b[1;32m    688\u001b[0m \u001b[0;34m\u001b[0m\u001b[0m\n\u001b[1;32m    689\u001b[0m     \u001b[0mtyp\u001b[0m \u001b[0;34m=\u001b[0m \u001b[0mdtype\u001b[0m\u001b[0;34m.\u001b[0m\u001b[0mtype\u001b[0m\u001b[0;34m\u001b[0m\u001b[0m\n",
      "\u001b[0;31mValueError\u001b[0m: could not convert string to float: b'pclass,name,sex,age,sibsp,parch,ticket,fare,cabin,embarked,survived'"
     ]
    }
   ],
   "source": [
    "titanic_data = np.loadtxt('titanic.csv')"
   ]
  },
  {
   "cell_type": "code",
   "execution_count": null,
   "metadata": {},
   "outputs": [],
   "source": [
    "titanic_data = pd.read_csv('https://raw.githubusercontent.com/GokuMohandas/practicalAI/master/data/titanic.csv')\n",
    "titanic_data"
   ]
  },
  {
   "cell_type": "code",
   "execution_count": null,
   "metadata": {},
   "outputs": [],
   "source": [
    "type(titanic_data)"
   ]
  },
  {
   "cell_type": "code",
   "execution_count": null,
   "metadata": {},
   "outputs": [],
   "source": [
    "titanic_data.columns"
   ]
  },
  {
   "cell_type": "code",
   "execution_count": null,
   "metadata": {},
   "outputs": [],
   "source": [
    "pclass = titanic_data['pclass']\n",
    "pclass.head()"
   ]
  },
  {
   "cell_type": "code",
   "execution_count": null,
   "metadata": {},
   "outputs": [],
   "source": [
    "name = titanic_data['name']\n",
    "sex = titanic_data['sex']\n",
    "age = titanic_data['age']\n",
    "sibsp = titanic_data['sibsp']\n",
    "parch = titanic_data['parch']\n",
    "ticket = titanic_data['ticket']\n",
    "fare = titanic_data['fare']\n",
    "cabin = titanic_data['cabin']\n",
    "embarked = titanic_data['embarked']\n",
    "survived = titanic_data['survived']"
   ]
  },
  {
   "cell_type": "code",
   "execution_count": null,
   "metadata": {},
   "outputs": [],
   "source": [
    "plt.plot(age,survived, '.')\n",
    "plt.show()"
   ]
  },
  {
   "cell_type": "markdown",
   "metadata": {},
   "source": [
    "#### Importing Excel Files\n",
    "Open in spreadsheet and edit before importing"
   ]
  },
  {
   "cell_type": "code",
   "execution_count": 18,
   "metadata": {},
   "outputs": [
    {
     "ename": "NameError",
     "evalue": "name 'pd' is not defined",
     "output_type": "error",
     "traceback": [
      "\u001b[0;31m---------------------------------------------------------------------------\u001b[0m",
      "\u001b[0;31mNameError\u001b[0m                                 Traceback (most recent call last)",
      "\u001b[0;32m<ipython-input-18-695a6c000359>\u001b[0m in \u001b[0;36m<module>\u001b[0;34m\u001b[0m\n\u001b[1;32m      1\u001b[0m \u001b[0mfile\u001b[0m \u001b[0;34m=\u001b[0m \u001b[0;34m'Education_data.xls'\u001b[0m   \u001b[0;31m# you can save the filename as a variable\u001b[0m\u001b[0;34m\u001b[0m\u001b[0m\n\u001b[0;32m----> 2\u001b[0;31m \u001b[0meducation_data\u001b[0m \u001b[0;34m=\u001b[0m \u001b[0mpd\u001b[0m\u001b[0;34m.\u001b[0m\u001b[0mread_excel\u001b[0m\u001b[0;34m(\u001b[0m\u001b[0mfile\u001b[0m\u001b[0;34m)\u001b[0m  \u001b[0;31m# syntax for opening an excel file\u001b[0m\u001b[0;34m\u001b[0m\u001b[0m\n\u001b[0m\u001b[1;32m      3\u001b[0m \u001b[0meducation_data\u001b[0m\u001b[0;34m\u001b[0m\u001b[0m\n",
      "\u001b[0;31mNameError\u001b[0m: name 'pd' is not defined"
     ]
    }
   ],
   "source": [
    "file = 'Education_data.xls'   # you can save the filename as a variable\n",
    "education_data = pd.read_excel(file)  # syntax for opening an excel file \n",
    "education_data"
   ]
  },
  {
   "cell_type": "code",
   "execution_count": 19,
   "metadata": {},
   "outputs": [
    {
     "ename": "NameError",
     "evalue": "name 'education_data' is not defined",
     "output_type": "error",
     "traceback": [
      "\u001b[0;31m---------------------------------------------------------------------------\u001b[0m",
      "\u001b[0;31mNameError\u001b[0m                                 Traceback (most recent call last)",
      "\u001b[0;32m<ipython-input-19-2dfcf76fa958>\u001b[0m in \u001b[0;36m<module>\u001b[0;34m\u001b[0m\n\u001b[0;32m----> 1\u001b[0;31m \u001b[0meducation_data\u001b[0m \u001b[0;34m=\u001b[0m \u001b[0meducation_data\u001b[0m\u001b[0;34m.\u001b[0m\u001b[0mdropna\u001b[0m\u001b[0;34m(\u001b[0m\u001b[0;34m)\u001b[0m\u001b[0;34m\u001b[0m\u001b[0m\n\u001b[0m\u001b[1;32m      2\u001b[0m \u001b[0meducation_data\u001b[0m\u001b[0;34m.\u001b[0m\u001b[0mhead\u001b[0m\u001b[0;34m(\u001b[0m\u001b[0;34m)\u001b[0m\u001b[0;34m\u001b[0m\u001b[0m\n",
      "\u001b[0;31mNameError\u001b[0m: name 'education_data' is not defined"
     ]
    }
   ],
   "source": [
    "education_data = education_data.dropna()\n",
    "education_data.head()"
   ]
  },
  {
   "cell_type": "code",
   "execution_count": 20,
   "metadata": {},
   "outputs": [
    {
     "ename": "NameError",
     "evalue": "name 'education_data' is not defined",
     "output_type": "error",
     "traceback": [
      "\u001b[0;31m---------------------------------------------------------------------------\u001b[0m",
      "\u001b[0;31mNameError\u001b[0m                                 Traceback (most recent call last)",
      "\u001b[0;32m<ipython-input-20-02d0cf1da3d5>\u001b[0m in \u001b[0;36m<module>\u001b[0;34m\u001b[0m\n\u001b[0;32m----> 1\u001b[0;31m \u001b[0meducation_data\u001b[0m\u001b[0;34m.\u001b[0m\u001b[0minfo\u001b[0m\u001b[0;34m(\u001b[0m\u001b[0;34m)\u001b[0m\u001b[0;34m\u001b[0m\u001b[0m\n\u001b[0m",
      "\u001b[0;31mNameError\u001b[0m: name 'education_data' is not defined"
     ]
    }
   ],
   "source": [
    "education_data.info()"
   ]
  },
  {
   "cell_type": "code",
   "execution_count": null,
   "metadata": {},
   "outputs": [],
   "source": []
  }
 ],
 "metadata": {
  "kernelspec": {
   "display_name": "Python 3",
   "language": "python",
   "name": "python3"
  },
  "language_info": {
   "codemirror_mode": {
    "name": "ipython",
    "version": 3
   },
   "file_extension": ".py",
   "mimetype": "text/x-python",
   "name": "python",
   "nbconvert_exporter": "python",
   "pygments_lexer": "ipython3",
   "version": "3.5.3"
  }
 },
 "nbformat": 4,
 "nbformat_minor": 2
}
