{
 "cells": [
  {
   "cell_type": "markdown",
   "metadata": {},
   "source": [
    "### Fun Activity! \n",
    "\n",
    "##### Learning Conditional Statements \n",
    "\n",
    "Conditional statements are used if you want to do a specific thing, only when something else is true or false. For example, you could write a program for a simple thermastat. \n",
    "\n",
    "### Simple Thermastat\n",
    "\n",
    "Lets desing a program that takes in temperature values and if the temperature is above a certain value the AC will be on. If the temperature decreases below this value the AC will turn off. Take a look at the program below and think about the different commands and steps to build it."
   ]
  },
  {
   "cell_type": "code",
   "execution_count": 1,
   "metadata": {},
   "outputs": [
    {
     "name": "stdout",
     "output_type": "stream",
     "text": [
      "AC on\n",
      "85\n",
      "0 sec\n",
      "AC on\n",
      "84\n",
      "1 sec\n",
      "AC on\n",
      "83\n",
      "2 sec\n",
      "AC on\n",
      "82\n",
      "3 sec\n",
      "AC on\n",
      "81\n",
      "4 sec\n",
      "AC off\n",
      "80\n",
      "5 sec\n",
      "AC on\n",
      "81\n",
      "6 sec\n",
      "AC off\n",
      "80\n",
      "7 sec\n",
      "AC on\n",
      "81\n",
      "8 sec\n",
      "AC off\n",
      "80\n",
      "9 sec\n",
      "AC on\n",
      "81\n",
      "10 sec\n",
      "AC off\n",
      "80\n",
      "11 sec\n",
      "AC on\n",
      "81\n",
      "12 sec\n",
      "AC off\n",
      "80\n",
      "13 sec\n",
      "AC on\n",
      "81\n",
      "14 sec\n",
      "AC off\n",
      "80\n",
      "15 sec\n",
      "AC on\n",
      "81\n",
      "16 sec\n",
      "AC off\n",
      "80\n",
      "17 sec\n",
      "AC on\n",
      "81\n",
      "18 sec\n",
      "AC off\n",
      "80\n",
      "19 sec\n",
      "AC on\n",
      "81\n",
      "20 sec\n",
      "AC off\n",
      "80\n",
      "21 sec\n",
      "AC on\n",
      "81\n",
      "22 sec\n",
      "AC off\n",
      "80\n",
      "23 sec\n",
      "AC on\n",
      "81\n",
      "24 sec\n",
      "AC off\n",
      "80\n",
      "25 sec\n"
     ]
    }
   ],
   "source": [
    "# import packages - like a tool box with extra goodies\n",
    "from time import sleep  \n",
    "\n",
    "# basic thermastat\n",
    "\n",
    "Temp = 85 # temperature of the room starts at 85 degrees Farenheit\n",
    "\n",
    "time = 0  # counter for time in seconds\n",
    "\n",
    "for i in range(0,26,1): # use the loop to increase\n",
    "    if Temp > 80:   # if statment checks of the temperature is above 80 degrees'if the temp is greater than 80'\n",
    "        print('AC on') #if the condiiton(above 80 degrees) is satisfied then the ac turns on\n",
    "        print(Temp)  # at the same time it will print the temperature at the same time\n",
    "        sleep(1)     # this means that python will wait (1) second before doing the next command\n",
    "        Temp = Temp - 1 # this will decrease temperature by 1 degree or temp+= -1\n",
    "        time = i    # every step in the for loop is a second in real time\n",
    "        print(time,'sec') # print the time value in seconds\n",
    "    \n",
    "    else: # if the 'if' statement(above 80 degrees) isnt satisfied, do the following\n",
    "        print('AC off') # if its 80 or below, turn off the ac\n",
    "        print(Temp)   #check the current temperature\n",
    "        sleep(1)    # wait 1 second\n",
    "        Temp = Temp + 1  #since the ac is off, increase the temperature by 1 degree\n",
    "        time = i  # every step in the for loop is 1 second in the real world\n",
    "        print(time,'sec') # print the time value in seconds\n",
    "        \n",
    "    if time == 25: # if the time reaches 25 \n",
    "        break  # ends a for loop at this point in the loop"
   ]
  },
  {
   "cell_type": "markdown",
   "metadata": {},
   "source": [
    "### Creating a guessing game\n",
    "lets write a program that creates a random number from 0 to 100, and then asks us to guess. The program will then check you guess and tell you guess higher or lower. "
   ]
  },
  {
   "cell_type": "code",
   "execution_count": 1,
   "metadata": {},
   "outputs": [
    {
     "name": "stdin",
     "output_type": "stream",
     "text": [
      "Guess an integer between 1-100:  0\n"
     ]
    },
    {
     "name": "stdout",
     "output_type": "stream",
     "text": [
      "Bye now!\n"
     ]
    }
   ],
   "source": [
    "import random # must have the package random to use randint command\n",
    "n = random.randint(1, 100) # creates a random number 0-100\n",
    "while True:    \n",
    "    ans = int(input('Guess an integer between 1-100: '))    # imput asks command to chose a number\n",
    "    if ans == n:        #checking if guess equals the mystery number\n",
    "        print('Success! You win! Lets play again!') # if correct print this message\n",
    "        n = random.randint(1,100) # generate random new mystery number\n",
    "           # now we're restarting the loop from the top\n",
    "    elif ans > n:        # if we didnt guess right now check is the guess above is the mystery #\n",
    "        print('Too high. Guess an integer below last guess.')   #if it is print this message\n",
    "    elif ans == 0:   # cehcks if the above above conditions are unsatifised and checks if the guess was 0     \n",
    "        print('Bye now!')\n",
    "        break # since we put 0 it means we are done, so use break to end the loop\n",
    "    else: # not equal to mystery #, not greater than mystery #, so must be less than\n",
    "        print('Too low. Guess an integer above last guess.') # print this message "
   ]
  },
  {
   "cell_type": "code",
   "execution_count": null,
   "metadata": {},
   "outputs": [],
   "source": []
  },
  {
   "cell_type": "code",
   "execution_count": null,
   "metadata": {},
   "outputs": [],
   "source": []
  }
 ],
 "metadata": {
  "kernelspec": {
   "display_name": "Python 3",
   "language": "python",
   "name": "python3"
  },
  "language_info": {
   "codemirror_mode": {
    "name": "ipython",
    "version": 3
   },
   "file_extension": ".py",
   "mimetype": "text/x-python",
   "name": "python",
   "nbconvert_exporter": "python",
   "pygments_lexer": "ipython3",
   "version": "3.5.3"
  }
 },
 "nbformat": 4,
 "nbformat_minor": 2
}
