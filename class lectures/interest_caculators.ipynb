{
 "cells": [
  {
   "cell_type": "code",
   "execution_count": 6,
   "metadata": {},
   "outputs": [],
   "source": [
    "import numpy as np\n",
    "import matplotlib.pyplot as plt\n",
    "%matplotlib inline"
   ]
  },
  {
   "cell_type": "markdown",
   "metadata": {},
   "source": [
    "### Interest calculators"
   ]
  },
  {
   "cell_type": "markdown",
   "metadata": {},
   "source": [
    "Our goal of the project is to create a calculator for simple and compound interests. This will allow for people to simply enter initial balance, interest rate, the amount of years, and how many times it is compounded yearly. All of the values are passed through the function, giving the end balance. The program will restart of the user choses to, if not the calculator will terminate.\n",
    "\n",
    "The simple interest differs from the compound intrerst as compound interest is the result of reinvesting interest, rather than paying it out, so that interest in the next period is then earned on the principal sum plus previously accumulated interest. Simple interest on the other hand is simply the amoount of interest paid or earned in one period."
   ]
  },
  {
   "cell_type": "markdown",
   "metadata": {},
   "source": [
    "### Basic Model Compound Interest Calculator\n",
    " When the calculator is used, the user must inputs their intial balance,annual interest rate,the amount of years it will be invested. The numbers are then put into the compound interest formula:\n",
    "     A = P(1+R/100)^n\n",
    "* A = Total amount after n years\n",
    "* P = Principal or inital amount\n",
    "* r = rate of interest per annun\n",
    "* n = number of years the money is invested"
   ]
  },
  {
   "cell_type": "code",
   "execution_count": 1,
   "metadata": {},
   "outputs": [
    {
     "name": "stdin",
     "output_type": "stream",
     "text": [
      "Input your intial balance 5000\n",
      "Input your annual interest rate 2.5\n",
      "After how many years 2\n",
      "How many times is it compunded yearly 2\n"
     ]
    },
    {
     "name": "stdout",
     "output_type": "stream",
     "text": [
      "Total balance\n",
      "$ 5254.73\n"
     ]
    },
    {
     "name": "stdin",
     "output_type": "stream",
     "text": [
      "Would you like to go again? no\n"
     ]
    },
    {
     "name": "stdout",
     "output_type": "stream",
     "text": [
      "Goodbye!\n"
     ]
    }
   ],
   "source": [
    "while True:                               #this converts the whole number (rate) into decimal for the equationwhile True:\n",
    "    P = float(input('Input your intial balance'))            # user inputs their balance\n",
    "    r = float(input('Input your annual interest rate'))     # user inputs their interest rate\n",
    "    t = float(input('After how many years'))                # user inputs how many years they pay the interest\n",
    "    n = float(input('How many times is it compunded yearly'))   # user inputs the amount of times it is compounded yearly\n",
    "    dec_r = r/100                                       # this converts the given interest rate into decimal form.\n",
    "    def compound(P,dec_r,t,n):                      # this creates the function with several user inputs\n",
    "        tot = (P*(1+(dec_r)/(n))**(n*t))\n",
    "        return tot                              # after the equation is ran, return the total \n",
    "    print('Total balance')                          # this will print out'total balance'\n",
    "    print('$',(round(compound(P,dec_r,t,n),2)))     # this rounds the total balance to the second decimal and prints it out\n",
    "    restart = input('Would you like to go again?')\n",
    "    if restart=='Yes':\n",
    "        continue\n",
    "    elif restart== 'yes':\n",
    "        continue\n",
    "    else:\n",
    "        print('Goodbye!')\n",
    "        break"
   ]
  },
  {
   "cell_type": "markdown",
   "metadata": {},
   "source": [
    "### Basic Model Simple interest calculator\n",
    "When the calculator is used, the user inputs the information needed such as their balance, interest rate and the amout of years, then the numbers are put through the simple interest formula:\n",
    "* I = PxRxT\n",
    "* I = Interest Money in dollars\n",
    "* P = The 'principal' starting amount\n",
    "* R = The interest rate per year\n",
    "* T = The time the money is invested"
   ]
  },
  {
   "cell_type": "code",
   "execution_count": 2,
   "metadata": {},
   "outputs": [
    {
     "name": "stdin",
     "output_type": "stream",
     "text": [
      "Input your initial balance 5000\n",
      "Input your interest rate 2.5\n",
      "How many years 2\n"
     ]
    },
    {
     "name": "stdout",
     "output_type": "stream",
     "text": [
      "Total balance\n",
      "$ 5250.0\n"
     ]
    },
    {
     "name": "stdin",
     "output_type": "stream",
     "text": [
      "Again? no\n"
     ]
    },
    {
     "name": "stdout",
     "output_type": "stream",
     "text": [
      "GoodBye!\n"
     ]
    }
   ],
   "source": [
    "while True:\n",
    "    principal = float(input('Input your initial balance'))              # user inputs initial balance\n",
    "    rate = float(input('Input your interest rate'))                     # user inputs interest rate\n",
    "    years = float(input('How many years'))                              # user inputs how many years they pay\n",
    "    dec_r = rate/100\n",
    "    def simple(principal,dec_r,years):                                   # creates equation with user inputs\n",
    "        tot_sim = principal*(1 + (dec_r* years))# inputted equation into function 'simple'\n",
    "        return tot_sim                                                  # return total balance \n",
    "    print('Total balance')                                              # prints 'total balance'\n",
    "    print('$',(round(simple(principal,dec_r,years),2)))                  # prints the total balance \n",
    "    restart = input('Again?')  # aks user if they would like to enter new values\n",
    "    if restart == 'Yes':  # if reply is yes, then loop back to the top\n",
    "        continue\n",
    "    elif restart == 'yes':\n",
    "        continue\n",
    "    else:  # if reply is no, print 'goodbye'\n",
    "        print('GoodBye!')\n",
    "        break"
   ]
  },
  {
   "cell_type": "markdown",
   "metadata": {},
   "source": [
    "### Simulated Data Compound Interest\n",
    "For the simulated data, we will give both functions an array of balances, a set rate, set amount of years. After getting the results, we will use a line graph to demonstrate which caculator averages bigger end balances"
   ]
  },
  {
   "cell_type": "code",
   "execution_count": 14,
   "metadata": {},
   "outputs": [
    {
     "name": "stdout",
     "output_type": "stream",
     "text": [
      "[  3.32525673e+05   1.99515404e+07   3.95705551e+07   5.91895698e+07\n",
      "   7.88085845e+07   9.84275992e+07   1.18046614e+08   1.37665629e+08\n",
      "   1.57284643e+08   1.76903658e+08   1.96522673e+08   2.16141687e+08\n",
      "   2.35760702e+08   2.55379717e+08   2.74998732e+08   2.94617746e+08\n",
      "   3.14236761e+08   3.33855776e+08   3.53474790e+08   3.73093805e+08\n",
      "   3.92712820e+08   4.12331835e+08   4.31950849e+08   4.51569864e+08\n",
      "   4.71188879e+08   4.90807893e+08   5.10426908e+08   5.30045923e+08\n",
      "   5.49664937e+08   5.69283952e+08   5.88902967e+08   6.08521982e+08\n",
      "   6.28140996e+08   6.47760011e+08   6.67379026e+08   6.86998040e+08\n",
      "   7.06617055e+08   7.26236070e+08   7.45855085e+08   7.65474099e+08\n",
      "   7.85093114e+08   8.04712129e+08   8.24331143e+08   8.43950158e+08\n",
      "   8.63569173e+08   8.83188188e+08   9.02807202e+08   9.22426217e+08\n",
      "   9.42045232e+08   9.61664246e+08   9.81283261e+08   1.00090228e+09\n",
      "   1.02052129e+09   1.04014031e+09   1.05975932e+09   1.07937833e+09\n",
      "   1.09899735e+09   1.11861636e+09   1.13823538e+09   1.15785439e+09\n",
      "   1.17747341e+09   1.19709242e+09   1.21671144e+09   1.23633045e+09\n",
      "   1.25594947e+09   1.27556848e+09   1.29518750e+09   1.31480651e+09\n",
      "   1.33442553e+09   1.35404454e+09   1.37366356e+09   1.39328257e+09\n",
      "   1.41290158e+09   1.43252060e+09   1.45213961e+09   1.47175863e+09\n",
      "   1.49137764e+09   1.51099666e+09   1.53061567e+09   1.55023469e+09\n",
      "   1.56985370e+09   1.58947272e+09   1.60909173e+09   1.62871075e+09\n",
      "   1.64832976e+09   1.66794878e+09   1.68756779e+09   1.70718681e+09\n",
      "   1.72680582e+09   1.74642483e+09   1.76604385e+09   1.78566286e+09\n",
      "   1.80528188e+09   1.82490089e+09   1.84451991e+09   1.86413892e+09\n",
      "   1.88375794e+09   1.90337695e+09   1.92299597e+09   1.94261498e+09\n",
      "   1.96223400e+09   1.98185301e+09   2.00147203e+09   2.02109104e+09\n",
      "   2.04071006e+09   2.06032907e+09   2.07994808e+09   2.09956710e+09\n",
      "   2.11918611e+09   2.13880513e+09   2.15842414e+09   2.17804316e+09\n",
      "   2.19766217e+09   2.21728119e+09   2.23690020e+09   2.25651922e+09\n",
      "   2.27613823e+09   2.29575725e+09   2.31537626e+09   2.33499528e+09\n",
      "   2.35461429e+09   2.37423331e+09   2.39385232e+09   2.41347133e+09\n",
      "   2.43309035e+09   2.45270936e+09   2.47232838e+09   2.49194739e+09\n",
      "   2.51156641e+09   2.53118542e+09   2.55080444e+09   2.57042345e+09\n",
      "   2.59004247e+09   2.60966148e+09   2.62928050e+09   2.64889951e+09\n",
      "   2.66851853e+09   2.68813754e+09   2.70775656e+09   2.72737557e+09\n",
      "   2.74699458e+09   2.76661360e+09   2.78623261e+09   2.80585163e+09\n",
      "   2.82547064e+09   2.84508966e+09   2.86470867e+09   2.88432769e+09\n",
      "   2.90394670e+09   2.92356572e+09   2.94318473e+09   2.96280375e+09\n",
      "   2.98242276e+09   3.00204178e+09   3.02166079e+09   3.04127981e+09\n",
      "   3.06089882e+09   3.08051783e+09   3.10013685e+09   3.11975586e+09\n",
      "   3.13937488e+09   3.15899389e+09   3.17861291e+09   3.19823192e+09\n",
      "   3.21785094e+09   3.23746995e+09   3.25708897e+09   3.27670798e+09\n",
      "   3.29632700e+09   3.31594601e+09]\n"
     ]
    }
   ],
   "source": [
    "int_data_2= np.arange(100,1000000,5900)\n",
    "dec_rates = 2.5\n",
    "years = 5\n",
    "cmpd_2 = 2\n",
    "def compound_sim(int_data_2,dec_rates,years,cmpd_2):\n",
    "    net_bal = int_data_2*(1+(dec_rates)/cmpd_2)**(cmpd_2*years)\n",
    "    return net_bal\n",
    "print(compound_sim(int_data_2,dec_rates,years,cmpd_2))"
   ]
  },
  {
   "cell_type": "code",
   "execution_count": 15,
   "metadata": {},
   "outputs": [],
   "source": [
    "x_vals = np.arange(100,1000000,5900)\n",
    "y_vals= compound_sim(int_data_2,dec_rates,years,cmpd_2)"
   ]
  },
  {
   "cell_type": "code",
   "execution_count": 16,
   "metadata": {},
   "outputs": [
    {
     "data": {
      "text/plain": [
       "<function matplotlib.pyplot.show(*args, **kw)>"
      ]
     },
     "execution_count": 16,
     "metadata": {},
     "output_type": "execute_result"
    },
    {
     "data": {
      "image/png": "[encoded data removed]",
      "text/plain": [
       "<matplotlib.figure.Figure at 0x6f1938f0>"
      ]
     },
     "metadata": {
      "needs_background": "light"
     },
     "output_type": "display_data"
    }
   ],
   "source": [
    "plt.plot(x_vals,y_vals,label ='data')\n",
    "plt.title('net balances w/ average intial balances')\n",
    "plt.xlabel('Starting balances')\n",
    "plt.ylabel('net balances')\n",
    "plt.legend()\n",
    "plt.show"
   ]
  },
  {
   "cell_type": "markdown",
   "metadata": {},
   "source": [
    "### Simulated Data Simple Interest"
   ]
  },
  {
   "cell_type": "code",
   "execution_count": 22,
   "metadata": {},
   "outputs": [
    {
     "name": "stdout",
     "output_type": "stream",
     "text": [
      "[  1.35000000e+03   8.10000000e+04   1.60650000e+05   2.40300000e+05\n",
      "   3.19950000e+05   3.99600000e+05   4.79250000e+05   5.58900000e+05\n",
      "   6.38550000e+05   7.18200000e+05   7.97850000e+05   8.77500000e+05\n",
      "   9.57150000e+05   1.03680000e+06   1.11645000e+06   1.19610000e+06\n",
      "   1.27575000e+06   1.35540000e+06   1.43505000e+06   1.51470000e+06\n",
      "   1.59435000e+06   1.67400000e+06   1.75365000e+06   1.83330000e+06\n",
      "   1.91295000e+06   1.99260000e+06   2.07225000e+06   2.15190000e+06\n",
      "   2.23155000e+06   2.31120000e+06   2.39085000e+06   2.47050000e+06\n",
      "   2.55015000e+06   2.62980000e+06   2.70945000e+06   2.78910000e+06\n",
      "   2.86875000e+06   2.94840000e+06   3.02805000e+06   3.10770000e+06\n",
      "   3.18735000e+06   3.26700000e+06   3.34665000e+06   3.42630000e+06\n",
      "   3.50595000e+06   3.58560000e+06   3.66525000e+06   3.74490000e+06\n",
      "   3.82455000e+06   3.90420000e+06   3.98385000e+06   4.06350000e+06\n",
      "   4.14315000e+06   4.22280000e+06   4.30245000e+06   4.38210000e+06\n",
      "   4.46175000e+06   4.54140000e+06   4.62105000e+06   4.70070000e+06\n",
      "   4.78035000e+06   4.86000000e+06   4.93965000e+06   5.01930000e+06\n",
      "   5.09895000e+06   5.17860000e+06   5.25825000e+06   5.33790000e+06\n",
      "   5.41755000e+06   5.49720000e+06   5.57685000e+06   5.65650000e+06\n",
      "   5.73615000e+06   5.81580000e+06   5.89545000e+06   5.97510000e+06\n",
      "   6.05475000e+06   6.13440000e+06   6.21405000e+06   6.29370000e+06\n",
      "   6.37335000e+06   6.45300000e+06   6.53265000e+06   6.61230000e+06\n",
      "   6.69195000e+06   6.77160000e+06   6.85125000e+06   6.93090000e+06\n",
      "   7.01055000e+06   7.09020000e+06   7.16985000e+06   7.24950000e+06\n",
      "   7.32915000e+06   7.40880000e+06   7.48845000e+06   7.56810000e+06\n",
      "   7.64775000e+06   7.72740000e+06   7.80705000e+06   7.88670000e+06\n",
      "   7.96635000e+06   8.04600000e+06   8.12565000e+06   8.20530000e+06\n",
      "   8.28495000e+06   8.36460000e+06   8.44425000e+06   8.52390000e+06\n",
      "   8.60355000e+06   8.68320000e+06   8.76285000e+06   8.84250000e+06\n",
      "   8.92215000e+06   9.00180000e+06   9.08145000e+06   9.16110000e+06\n",
      "   9.24075000e+06   9.32040000e+06   9.40005000e+06   9.47970000e+06\n",
      "   9.55935000e+06   9.63900000e+06   9.71865000e+06   9.79830000e+06\n",
      "   9.87795000e+06   9.95760000e+06   1.00372500e+07   1.01169000e+07\n",
      "   1.01965500e+07   1.02762000e+07   1.03558500e+07   1.04355000e+07\n",
      "   1.05151500e+07   1.05948000e+07   1.06744500e+07   1.07541000e+07\n",
      "   1.08337500e+07   1.09134000e+07   1.09930500e+07   1.10727000e+07\n",
      "   1.11523500e+07   1.12320000e+07   1.13116500e+07   1.13913000e+07\n",
      "   1.14709500e+07   1.15506000e+07   1.16302500e+07   1.17099000e+07\n",
      "   1.17895500e+07   1.18692000e+07   1.19488500e+07   1.20285000e+07\n",
      "   1.21081500e+07   1.21878000e+07   1.22674500e+07   1.23471000e+07\n",
      "   1.24267500e+07   1.25064000e+07   1.25860500e+07   1.26657000e+07\n",
      "   1.27453500e+07   1.28250000e+07   1.29046500e+07   1.29843000e+07\n",
      "   1.30639500e+07   1.31436000e+07   1.32232500e+07   1.33029000e+07\n",
      "   1.33825500e+07   1.34622000e+07]\n"
     ]
    }
   ],
   "source": [
    "sime_bal = np.arange(100,1000000,5900)\n",
    "rates_dec = 2.5\n",
    "yearss = 5\n",
    "def simple_simul(sime_bal,rates_dec,yearss):\n",
    "    balance = sime_bal*(1 +(rates_dec*yearss))\n",
    "    return balance\n",
    "print(simple_simul(sime_bal,rates_dec,yearss))"
   ]
  },
  {
   "cell_type": "code",
   "execution_count": 23,
   "metadata": {},
   "outputs": [],
   "source": [
    "x_vals = np.arange(1,1000000,5900)\n",
    "simp_y_vals = simple_simul(sime_bal,rates_dec,yearss)"
   ]
  },
  {
   "cell_type": "code",
   "execution_count": 24,
   "metadata": {},
   "outputs": [
    {
     "data": {
      "text/plain": [
       "<matplotlib.legend.Legend at 0x6eeefe10>"
      ]
     },
     "execution_count": 24,
     "metadata": {},
     "output_type": "execute_result"
    },
    {
     "data": {
      "image/png": "[encoded data removed]",
      "text/plain": [
       "<matplotlib.figure.Figure at 0x6ef40dd0>"
      ]
     },
     "metadata": {
      "needs_background": "light"
     },
     "output_type": "display_data"
    }
   ],
   "source": [
    "plt.plot(x_vals,simp_y_vals,'p' ,label = 'data')\n",
    "plt.title('Net balances w/average initial balances')\n",
    "plt.xlabel('Starting balances')\n",
    "plt.ylabel('Net balances')\n",
    "plt.legend()"
   ]
  },
  {
   "cell_type": "markdown",
   "metadata": {},
   "source": [
    "# Conclusion\n"
   ]
  },
  {
   "cell_type": "markdown",
   "metadata": {},
   "source": [
    "The goal of the project was to make calculators to calculate simple interest and compound interest, and making it user freindly. In order to gather data, we set the same parameters for both equations and graphed the simulated data, comparing the net balances to the initial balances. AS seen above both graphs are linear due to the fact that the intial is not an exponent. As seen in the graphs, the compound totals are larger than the simple due to the amount of interest increases over time, wheras simple only has a time frame of a year."
   ]
  }
 ],
 "metadata": {
  "kernelspec": {
   "display_name": "Python 3",
   "language": "python",
   "name": "python3"
  },
  "language_info": {
   "codemirror_mode": {
    "name": "ipython",
    "version": 3
   },
   "file_extension": ".py",
   "mimetype": "text/x-python",
   "name": "python",
   "nbconvert_exporter": "python",
   "pygments_lexer": "ipython3",
   "version": "3.5.3"
  }
 },
 "nbformat": 4,
 "nbformat_minor": 2
}
